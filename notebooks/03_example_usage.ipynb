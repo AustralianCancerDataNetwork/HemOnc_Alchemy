{
 "cells": [
  {
   "cell_type": "code",
   "execution_count": null,
   "metadata": {},
   "outputs": [],
   "source": [
    "from datetime import datetime\n",
    "import pandas as pd\n",
    "import sqlalchemy as sa\n",
    "import sqlalchemy.orm as so\n",
    "import numpy as np\n",
    "import matplotlib.pyplot as plt\n",
    "from hemonc_alchemy.model.hemonc_model import Hemonc_Study, Hemonc_Modality, Hemonc_Condition, Hemonc_Component_Role, Hemonc_Ref, Hemonc_Component, Hemonc_Component_Class, Hemonc_Context, Hemonc_Regimen, Hemonc_Branch_Conditional, Hemonc_Variant, Hemonc_Regimen_Part, Part_Phase, Hemonc_Cycle_Sig, Hemonc_Sig, Sig_Days, Base, component_to_class_map, variant_study_map, regimen_to_modality_map\n",
    "from pathlib import Path\n",
    "from datetime import date\n",
    "\n",
    "# in this notebook are included demo functions for exploring the enriched functionality of the whole HemOnc data model, beyond what is available in OMOP alone"
   ]
  },
  {
   "cell_type": "code",
   "execution_count": null,
   "metadata": {},
   "outputs": [],
   "source": [
    "import omop_alchemy as oa\n",
    "engine = oa.oa_config.engine"
   ]
  },
  {
   "cell_type": "code",
   "execution_count": null,
   "metadata": {},
   "outputs": [],
   "source": [
    "# study objects provide a more nuanced link between regimen and conditions via the variants and specific condition context in which they were studied\n",
    "\n",
    "with so.Session(engine) as session:\n",
    "    reg_study_condition = pd.DataFrame(session.query(Hemonc_Regimen.regimen_cui, \n",
    "                                                     Hemonc_Regimen.regimen_name,\n",
    "                                                     Hemonc_Variant.variant_name,\n",
    "                                                     Hemonc_Variant.variant_cui,\n",
    "                                                     Hemonc_Study.study_code,\n",
    "                                                     Hemonc_Study.start,\n",
    "                                                     Hemonc_Study.end,\n",
    "                                                     Hemonc_Study.sponsor_type,\n",
    "                                                     Hemonc_Study.enrollment_from,\n",
    "                                                     Hemonc_Study.enrollment_to,\n",
    "                                                     Hemonc_Ref.title,\n",
    "                                                     Hemonc_Ref.pub_date,\n",
    "                                                     Hemonc_Condition.condition_name\n",
    "                                                     ).join(Hemonc_Variant, Hemonc_Variant.regimen_cui == Hemonc_Regimen.regimen_cui, isouter=True\n",
    "                                                     ).join(variant_study_map, variant_study_map.c.variant_cui==Hemonc_Variant.variant_cui, isouter=True\n",
    "                                                     ).join(Hemonc_Study, Hemonc_Study.study_code == variant_study_map.c.study_code, isouter=True\n",
    "                                                     ).join(Hemonc_Ref, Hemonc_Study.study_code == Hemonc_Ref.study, isouter=True\n",
    "                                                     ).join(Hemonc_Condition, Hemonc_Condition.condition_code == Hemonc_Study.condition_code, isouter=True\n",
    "                                                     ).all())"
   ]
  },
  {
   "cell_type": "code",
   "execution_count": null,
   "metadata": {},
   "outputs": [],
   "source": [
    "reg_study_condition.start = pd.to_datetime(reg_study_condition.start)\n",
    "reg_study_condition.end = pd.to_datetime(reg_study_condition.end)\n",
    "reg_study_condition.pub_date = pd.to_datetime(reg_study_condition.pub_date)"
   ]
  },
  {
   "cell_type": "code",
   "execution_count": null,
   "metadata": {},
   "outputs": [],
   "source": [
    "# study linkages allow us to explore date of first availability for regimens - this is imperfect in the source, but we resolve this by creating a fallback option\n",
    "\n",
    "reg_study_condition = reg_study_condition.merge(reg_study_condition.groupby('variant_cui').end.min().reset_index().rename(columns={'end': 'earliest_end'}), on='variant_cui', how='left')\n",
    "reg_study_condition = reg_study_condition.merge(reg_study_condition.groupby('variant_cui').pub_date.min().reset_index().rename(columns={'pub_date': 'earliest_pub'}), on='variant_cui', how='left')\n",
    "reg_study_condition = reg_study_condition.merge(reg_study_condition.groupby('variant_cui').start.min().reset_index().rename(columns={'start': 'earliest_start'}), on='variant_cui', how='left')\n",
    "reg_study_condition['reference_date'] = reg_study_condition.earliest_end.combine_first(reg_study_condition.earliest_start).combine_first(reg_study_condition.earliest_pub)"
   ]
  },
  {
   "cell_type": "code",
   "execution_count": null,
   "metadata": {},
   "outputs": [],
   "source": [
    "# even with all fallbacks, some still are undated - this is correct per source\n",
    "reg_study_condition[reg_study_condition.reference_date.isna()].study_code.value_counts()\n",
    "reg_study_condition_with_date = reg_study_condition.dropna(subset='reference_date').copy()"
   ]
  },
  {
   "cell_type": "code",
   "execution_count": null,
   "metadata": {},
   "outputs": [],
   "source": [
    "reg_study_condition_with_date.head()"
   ]
  },
  {
   "cell_type": "code",
   "execution_count": null,
   "metadata": {},
   "outputs": [],
   "source": [
    "# the full expression of cycle and component sigs are not available in the OMOP vocabularies, and arguably cannot be made available in enough detail to compare\n",
    "# precisely the prescribed baseline regimen to the drug exposure events as delivered\n",
    "\n",
    "with so.Session(engine) as session:\n",
    "    var_component_days = pd.DataFrame(session.query(Hemonc_Regimen.regimen_name,\n",
    "                                                    Hemonc_Regimen.regimen_cui,  \n",
    "                                                    Hemonc_Variant.variant_name, \n",
    "                                                    Hemonc_Variant.variant_cui,\n",
    "                                                    Hemonc_Cycle_Sig.cycle_len_min,\n",
    "                                                    Hemonc_Cycle_Sig.cycle_len_max,\n",
    "                                                    Hemonc_Cycle_Sig.cycle_len_units,\n",
    "                                                    Hemonc_Cycle_Sig.frequency_min,\n",
    "                                                    Hemonc_Cycle_Sig.frequency_max,\n",
    "                                                    Hemonc_Cycle_Sig.frequency_units,\n",
    "                                                    Hemonc_Cycle_Sig.residual,\n",
    "                                                    Hemonc_Regimen_Part.regimen_part_id,\n",
    "                                                    Hemonc_Regimen_Part.timing,\n",
    "                                                    Hemonc_Regimen_Part.timing_unit, \n",
    "                                                    Hemonc_Regimen_Part.portion,\n",
    "                                                    Hemonc_Sig.frequency,\n",
    "                                                    Hemonc_Sig.component_name,\n",
    "                                                    Hemonc_Sig.component_role,\n",
    "                                                    Hemonc_Sig.step_number,\n",
    "                                                    Hemonc_Sig.route,\n",
    "                                                    Hemonc_Sig.doseMinNum,\n",
    "                                                    Hemonc_Sig.doseMaxNum,\n",
    "                                                    Hemonc_Sig.component_class,\n",
    "                                                    Hemonc_Sig.tail,\n",
    "                                                    Sig_Days.sig_id,\n",
    "                                                    Sig_Days.day\n",
    "                                                  ).join(Hemonc_Variant, Hemonc_Variant.regimen_cui == Hemonc_Regimen.regimen_cui, isouter=True\n",
    "                                                  ).join(Hemonc_Regimen_Part, Hemonc_Regimen_Part.variant_cui==Hemonc_Variant.variant_cui, isouter=True\n",
    "                                                  ).join(Hemonc_Cycle_Sig, Hemonc_Cycle_Sig.cycle_sig_id==Hemonc_Regimen_Part.cycle_sig_id, isouter=True\n",
    "                                                  ).join(Hemonc_Sig, sa.and_(Hemonc_Sig.variant_cui==Hemonc_Regimen_Part.variant_cui, Hemonc_Sig.regimen_part_id==Hemonc_Regimen_Part.regimen_part_id), isouter=True\n",
    "                                                  ).join(Sig_Days, sa.and_(Sig_Days.variant_cui==Hemonc_Sig.variant_cui, Sig_Days.regimen_part_id==Hemonc_Sig.regimen_part_id, Sig_Days.sig_id==Hemonc_Sig.sig_id)).all())"
   ]
  },
  {
   "cell_type": "code",
   "execution_count": null,
   "metadata": {},
   "outputs": [],
   "source": [
    "with so.Session(engine) as session:\n",
    "    reg_modalities = pd.DataFrame(session.query(Hemonc_Regimen.regimen_name,\n",
    "                                                Hemonc_Regimen.regimen_cui,  \n",
    "                                                Hemonc_Modality.modality_name\n",
    "                                                ).join(regimen_to_modality_map, Hemonc_Regimen.regimen_cui == regimen_to_modality_map.c.regimen_cui\n",
    "                                                ).join(Hemonc_Modality, Hemonc_Modality.modality_code == regimen_to_modality_map.c.modality_code).all())\n",
    "                                             "
   ]
  },
  {
   "cell_type": "code",
   "execution_count": null,
   "metadata": {},
   "outputs": [],
   "source": [
    "first_reg = reg_study_condition_with_date.reference_date.min()\n",
    "reg_study_condition_with_date['elapsed_years'] = reg_study_condition_with_date.reference_date.dt.year - first_reg.year\n",
    "reg_study_condition_with_date['elapsed_months'] = reg_study_condition_with_date.reference_date.dt.month - first_reg.month + 12*reg_study_condition_with_date.elapsed_years\n"
   ]
  },
  {
   "cell_type": "code",
   "execution_count": null,
   "metadata": {},
   "outputs": [],
   "source": [
    "reg_study_modalities = reg_study_condition_with_date.merge(reg_modalities, how='left')[['regimen_cui', 'reference_date', 'condition_name', 'modality_name', 'elapsed_months']].drop_duplicates()"
   ]
  },
  {
   "cell_type": "code",
   "execution_count": null,
   "metadata": {},
   "outputs": [],
   "source": [
    "reg_study_modalities['cc'] = reg_study_modalities.sort_values(['reference_date', 'regimen_cui']).groupby('modality_name').regimen_cui.cumcount()"
   ]
  },
  {
   "cell_type": "code",
   "execution_count": null,
   "metadata": {},
   "outputs": [],
   "source": [
    "# visualisation for patterns of modality availability over time \n",
    "\n",
    "import plotly.graph_objects as go\n",
    "import plotly.express as px\n",
    "\n",
    "modalities_of_interest = ['Chemotherapy', 'Immunotherapy', 'Endocrine therapy', 'Targeted therapy']\n",
    "regimen_modalities = reg_study_modalities[reg_study_modalities.modality_name.isin(modalities_of_interest)].sort_values(['reference_date', 'regimen_cui'])\n",
    "\n",
    "# Question: instead of plotting regimens alone, should we be plotting variants? Or regimen/condition pairs?\n",
    "\n",
    "tick_text = list(range(regimen_modalities.reference_date.min().year, date.today().year, 5))\n",
    "tick_vals = [i*60 + regimen_modalities.elapsed_months.min() for i in range(len(tick_text))]\n",
    "\n",
    "fig = px.line(regimen_modalities, \n",
    "              x='elapsed_months', \n",
    "              y='cc', \n",
    "              log_y=True, \n",
    "              color='modality_name',\n",
    "              labels={\n",
    "                     'elapsed_months': 'Date',\n",
    "                     'cc': 'Cumulative Regimen Count (log)',\n",
    "                     'modality_name': 'Regimen Modality'\n",
    "                 },\n",
    "              title='Availability of New Regimens by Date and Modality')\n",
    "\n",
    "fig.update_layout(\n",
    "    xaxis = dict(\n",
    "        tickmode = 'array',\n",
    "        tickvals = tick_vals, \n",
    "        ticktext = tick_text\n",
    "    )\n",
    ")\n",
    "fig.show()"
   ]
  },
  {
   "cell_type": "code",
   "execution_count": null,
   "metadata": {},
   "outputs": [],
   "source": [
    "with so.Session(engine) as session:\n",
    "    component_roles = pd.DataFrame(session.query(Hemonc_Regimen.regimen_cui,\n",
    "                                                 Hemonc_Regimen.regimen_name,\n",
    "                                                 Hemonc_Component_Role.relationship_id,\n",
    "                                                 Hemonc_Component.component_code,\n",
    "                                                 Hemonc_Component.component_name,\n",
    "                                                 Hemonc_Component_Class.component_class_code,\n",
    "                                                 Hemonc_Component_Class.component_class_name,\n",
    "                                                 ).join(Hemonc_Component_Role, Hemonc_Regimen.regimen_cui==Hemonc_Component_Role.regimen_cui\n",
    "                                                 ).join(Hemonc_Component, Hemonc_Component.component_code==Hemonc_Component_Role.component_code, isouter=True\n",
    "                                                 ).join(Hemonc_Component_Class, Hemonc_Component_Class.component_class_code==Hemonc_Component_Role.component_class_code, isouter=True\n",
    "                                                 ).all())\n",
    "    \n",
    "with so.Session(engine) as session:\n",
    "    component_classes = pd.DataFrame(session.query(Hemonc_Regimen.regimen_cui,\n",
    "                                                   Hemonc_Regimen.regimen_name,\n",
    "                                                   Hemonc_Component_Role.relationship_id,\n",
    "                                                   Hemonc_Component.component_code,\n",
    "                                                   Hemonc_Component.component_name,\n",
    "                                                   Hemonc_Component_Class.component_class_code,\n",
    "                                                   Hemonc_Component_Class.component_class_name,\n",
    "                                                   ).join(Hemonc_Component_Role, Hemonc_Regimen.regimen_cui==Hemonc_Component_Role.regimen_cui\n",
    "                                                   ).join(Hemonc_Component, Hemonc_Component.component_code==Hemonc_Component_Role.component_code, isouter=True\n",
    "                                                   ).join(component_to_class_map, Hemonc_Component.component_code==component_to_class_map.c.component_code, isouter=True       \n",
    "                                                   ).join(Hemonc_Component_Class, Hemonc_Component_Class.component_class_code==component_to_class_map.c.component_class_code, isouter=True\n",
    "                                                   ).all())"
   ]
  },
  {
   "cell_type": "code",
   "execution_count": null,
   "metadata": {},
   "outputs": [],
   "source": [
    "component_roles_with_dates = component_roles.merge(reg_study_condition_with_date[['regimen_cui', 'reference_date', 'elapsed_months']].drop_duplicates())"
   ]
  },
  {
   "cell_type": "code",
   "execution_count": null,
   "metadata": {},
   "outputs": [],
   "source": [
    "chemo_count = component_roles_with_dates[\n",
    "    component_roles_with_dates.relationship_id.str.contains('chemo')\n",
    "    ].groupby(\n",
    "        'regimen_cui'\n",
    "        ).component_name.nunique().reset_index().rename(columns={'component_name': 'chemo_n'})\n",
    "\n",
    "chemo_count = reg_study_condition_with_date[['regimen_cui', 'regimen_name', 'reference_date', 'condition_name', 'elapsed_months']].drop_duplicates().merge(chemo_count, on='regimen_cui')\n",
    "chemo_count['cc'] = chemo_count.sort_values(['reference_date', 'regimen_cui']).groupby('chemo_n').regimen_cui.cumcount()"
   ]
  },
  {
   "cell_type": "code",
   "execution_count": null,
   "metadata": {},
   "outputs": [],
   "source": [
    "# visualisation for # of agents over time as a proxy measure for regimen complexity\n",
    "\n",
    "tick_text = list(range(chemo_count.reference_date.min().year, date.today().year, 5))\n",
    "tick_vals = [i*60 + chemo_count.elapsed_months.min() for i in range(len(tick_text))]\n",
    "\n",
    "fig = px.line(chemo_count.sort_values(['reference_date', 'regimen_cui']),\n",
    "              x='elapsed_months', \n",
    "              y='cc', \n",
    "              log_y=True, \n",
    "              color='chemo_n',\n",
    "              labels={\n",
    "                     'elapsed_months': 'Date',\n",
    "                     'cc': 'Cumulative Regimen Count (log)',\n",
    "                     'chemo_n': '# Chemo Agents'\n",
    "                 },\n",
    "              title='Availability of New Regimens by Number of Chemotherapy Agents')\n",
    "\n",
    "fig.update_layout(\n",
    "    xaxis = dict(\n",
    "        tickmode = 'array',\n",
    "        tickvals = tick_vals, \n",
    "        ticktext = tick_text\n",
    "    )\n",
    ")\n",
    "fig.show()"
   ]
  },
  {
   "cell_type": "code",
   "execution_count": null,
   "metadata": {},
   "outputs": [],
   "source": [
    "with so.Session(engine) as session:\n",
    "    reg_study_condition = pd.DataFrame(session.query(Hemonc_Regimen.regimen_cui, \n",
    "                                                     Hemonc_Regimen.regimen_name,\n",
    "                                                     Hemonc_Variant.variant_name,\n",
    "                                                     Hemonc_Variant.variant_cui,\n",
    "                                                     Hemonc_Study.study_code,\n",
    "                                                     Hemonc_Study.start,\n",
    "                                                     Hemonc_Study.end,\n",
    "                                                     Hemonc_Study.sponsor_type,\n",
    "                                                     Hemonc_Study.enrollment_from,\n",
    "                                                     Hemonc_Study.enrollment_to,\n",
    "                                                     Hemonc_Ref.title,\n",
    "                                                     Hemonc_Ref.pub_date,\n",
    "                                                     Hemonc_Condition.condition_code,\n",
    "                                                     Hemonc_Condition.condition_name\n",
    "                                                     ).join(Hemonc_Variant, Hemonc_Variant.regimen_cui == Hemonc_Regimen.regimen_cui, isouter=True\n",
    "                                                     ).join(variant_study_map, variant_study_map.c.variant_cui==Hemonc_Variant.variant_cui, isouter=True\n",
    "                                                     ).join(Hemonc_Study, Hemonc_Study.study_code == variant_study_map.c.study_code, isouter=True\n",
    "                                                     ).join(Hemonc_Ref, Hemonc_Study.study_code == Hemonc_Ref.study, isouter=True\n",
    "                                                     ).join(Hemonc_Condition, Hemonc_Condition.condition_code == Hemonc_Study.condition_code, isouter=True\n",
    "                                                     ).all())"
   ]
  }
 ],
 "metadata": {
  "kernelspec": {
   "display_name": ".venv",
   "language": "python",
   "name": "python3"
  },
  "language_info": {
   "codemirror_mode": {
    "name": "ipython",
    "version": 3
   },
   "file_extension": ".py",
   "mimetype": "text/x-python",
   "name": "python",
   "nbconvert_exporter": "python",
   "pygments_lexer": "ipython3",
   "version": "3.11.0"
  }
 },
 "nbformat": 4,
 "nbformat_minor": 2
}
