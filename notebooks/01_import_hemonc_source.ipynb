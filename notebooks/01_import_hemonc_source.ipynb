{
 "cells": [
  {
   "cell_type": "code",
   "execution_count": 1,
   "metadata": {},
   "outputs": [
    {
     "name": "stderr",
     "output_type": "stream",
     "text": [
      "oa_configurator.config - DEBUG - Application config path set: /Users/georginakennedy/cloudstor/CBDRH/ACDN/py_hemonc/oa_system_config.yaml\n",
      "oa_configurator.config - DEBUG - Log path set: /Users/georginakennedy/cloudstor/CBDRH/ACDN/py_hemonc/py_hemonc/logs\n",
      "oa_configurator.config - DEBUG - DB connection string: sqlite:////Users/georginakennedy/cloudstor/CBDRH/ACDN/py_hemonc/py_hemonc/data/dash.db\n"
     ]
    }
   ],
   "source": [
    "# if running for first time, you may need to install spacy model\n",
    "# > python -m spacy download en_core_web_sm\n",
    "import dotenv\n",
    "dotenv.load_dotenv()\n",
    "\n",
    "\n",
    "from pathlib import Path\n",
    "from datetime import datetime\n",
    "import pandas as pd\n",
    "import pyreadr\n",
    "import sqlalchemy as sa\n",
    "import sqlalchemy.orm as so\n",
    "from py_hemonc.matchers.spacy_config import matchers, nlp, rules, match_entities, get_modifier_child, get_nouns  \n",
    "from py_hemonc.model.hemonc_model import Hemonc_Study, Hemonc_Condition, Hemonc_Component, Hemonc_Modality, Hemonc_Component_Class, Hemonc_Regimen, Hemonc_Variant, Hemonc_Regimen_Part, Part_Phase, Hemonc_Cycle_Sig, Hemonc_Sig, Sig_Days, Base, component_to_class_map, Hemonc_Ref, Hemonc_Component_Role, Hemonc_Context, Hemonc_Branch_Conditional\n",
    "from py_hemonc.model.hemonc_enums import Intent, Setting, Phase, Risk, Phenotype, PriorTherapy, Phase, StudyDesign, SponsorType, BranchConditionalType, ComponentRole"
   ]
  },
  {
   "cell_type": "code",
   "execution_count": 2,
   "metadata": {},
   "outputs": [
    {
     "data": {
      "text/plain": [
       "'/Users/georginakennedy/cloudstor/CBDRH/ACDN/py_hemonc/.env'"
      ]
     },
     "execution_count": 2,
     "metadata": {},
     "output_type": "execute_result"
    }
   ],
   "source": [
    "dotenv.find_dotenv()"
   ]
  },
  {
   "cell_type": "code",
   "execution_count": 3,
   "metadata": {},
   "outputs": [
    {
     "data": {
      "text/plain": [
       "'/Users/georginakennedy/cloudstor/CBDRH/ACDN/py_hemonc/hemonc_sig_updates/notebooks'"
      ]
     },
     "execution_count": 3,
     "metadata": {},
     "output_type": "execute_result"
    }
   ],
   "source": [
    "import os\n",
    "os.getcwd()"
   ]
  },
  {
   "cell_type": "code",
   "execution_count": 4,
   "metadata": {},
   "outputs": [],
   "source": [
    "# load data objects\n",
    "\n",
    "\n",
    "TABLE_PATH = Path('../..') / 'Hemonc KB' / 'Tables'\n",
    "CDM_PATH = Path('..') / 'py_hemonc' / 'db' "
   ]
  },
  {
   "cell_type": "code",
   "execution_count": 5,
   "metadata": {},
   "outputs": [],
   "source": [
    "concept_columns = ['concept_name', 'domain_id', 'vocabulary_id', 'concept_class_id', 'standard_concept', 'concept_code','valid_start_date', 'valid_end_date', 'invalid_reason']\n",
    "concept_relationship_columns = ['concept_code_1', 'concept_code_2', 'vocabulary_id_1', 'vocabulary_id_2', 'relationship_id', 'valid_start_date', 'valid_end_date', 'invalid_reason']\n",
    "\n",
    "sigs = pd.read_csv(TABLE_PATH / 'sigs.csv')\n",
    "omop = pyreadr.read_r(TABLE_PATH / 'omop.RData')\n",
    "concept_stage = omop['concept_stage'][concept_columns].copy()\n",
    "concept_relationship_stage = omop['concept_relationship_stage'][concept_relationship_columns].copy()\n",
    "concept_synonym_stage = omop['concept_synonym_stage'].copy()\n",
    "\n",
    "# using RData files where possible, to avoid versioning issues\n",
    "context = pyreadr.read_r(TABLE_PATH / 'context.table.RData')['context.table']\n",
    "page = pyreadr.read_r(TABLE_PATH / 'page.table.RData')['page.table']\n",
    "pointer = pyreadr.read_r(TABLE_PATH / 'pointer.table.RData')['pointer.table']\n",
    "ref = pyreadr.read_r(TABLE_PATH / 'ref.table.RData')['ref.table']\n",
    "sequence = pyreadr.read_r(TABLE_PATH / 'sequence.table.RData')['sequence.table']\n",
    "study = pyreadr.read_r(TABLE_PATH / 'study.table.RData')['study.table']\n",
    "#author = pyreadr.read_r(TABLE_PATH / 'author.table.RData')['author.table']\n",
    "#person = pyreadr.read_r(TABLE_PATH / 'person.table.RData')['person.table']\n",
    "#variant = pyreadr.read_r(TABLE_PATH / 'variant.table.RData')['variant.table']\n",
    "\n",
    "# following files had non-utf characters, requiring R-based conversion to csv\n",
    "author = pd.read_csv(TABLE_PATH / 'author.table.csv').drop(columns=['Unnamed: 0'])\n",
    "person = pd.read_csv(TABLE_PATH / 'person.table.csv', encoding=\"ISO-8859-1\").drop(columns=['Unnamed: 0'])\n",
    "variant = pd.read_csv(TABLE_PATH / 'variant.table.csv', encoding=\"ISO-8859-1\").drop(columns=['Unnamed: 0'])\n",
    "\n",
    "\n",
    "regimen = pointer[pointer.regimen_cui!='NOT YET ASSIGNED'][['regimen', 'regimen_cui']].drop_duplicates().copy()"
   ]
  },
  {
   "cell_type": "code",
   "execution_count": 7,
   "metadata": {},
   "outputs": [],
   "source": [
    "concepts_with_ids = pd.read_csv(CDM_PATH / 'CONCEPT.csv', delimiter='\\t', low_memory=False)"
   ]
  },
  {
   "cell_type": "code",
   "execution_count": 38,
   "metadata": {},
   "outputs": [],
   "source": [
    "concept_relationships = pd.read_csv(CDM_PATH / 'CONCEPT_RELATIONSHIP.csv', delimiter='\\t', low_memory=False)\n",
    "concept_ancestors = pd.read_csv(CDM_PATH / 'CONCEPT_ANCESTOR.csv', delimiter='\\t', low_memory=False)"
   ]
  },
  {
   "cell_type": "code",
   "execution_count": 8,
   "metadata": {},
   "outputs": [
    {
     "data": {
      "text/plain": [
       "1.364522417153996"
      ]
     },
     "execution_count": 8,
     "metadata": {},
     "output_type": "execute_result"
    }
   ],
   "source": [
    "100*(study[study.start.str.contains('NR')].study.nunique() - 265)/study.study.nunique()"
   ]
  },
  {
   "cell_type": "code",
   "execution_count": 9,
   "metadata": {},
   "outputs": [],
   "source": [
    "# engine = sa.create_engine(f\"sqlite:///{DATABASE_OUT_PATH}/ho.db\")\n",
    "# Base.metadata.create_all(engine)\n",
    "\n",
    "import omop_alchemy as oa\n",
    "\n",
    "engine = oa.oa_config.engine\n",
    "oa.Base.metadata.create_all(engine)"
   ]
  },
  {
   "cell_type": "code",
   "execution_count": 10,
   "metadata": {},
   "outputs": [
    {
     "data": {
      "text/html": [
       "<div>\n",
       "<style scoped>\n",
       "    .dataframe tbody tr th:only-of-type {\n",
       "        vertical-align: middle;\n",
       "    }\n",
       "\n",
       "    .dataframe tbody tr th {\n",
       "        vertical-align: top;\n",
       "    }\n",
       "\n",
       "    .dataframe thead th {\n",
       "        text-align: right;\n",
       "    }\n",
       "</style>\n",
       "<table border=\"1\" class=\"dataframe\">\n",
       "  <thead>\n",
       "    <tr style=\"text-align: right;\">\n",
       "      <th></th>\n",
       "      <th>concept_id</th>\n",
       "      <th>concept_name</th>\n",
       "      <th>domain_id</th>\n",
       "      <th>vocabulary_id</th>\n",
       "      <th>concept_class_id</th>\n",
       "      <th>standard_concept</th>\n",
       "      <th>concept_code</th>\n",
       "      <th>valid_start_date</th>\n",
       "      <th>valid_end_date</th>\n",
       "      <th>invalid_reason</th>\n",
       "    </tr>\n",
       "  </thead>\n",
       "  <tbody>\n",
       "    <tr>\n",
       "      <th>0</th>\n",
       "      <td>1146945</td>\n",
       "      <td>concept.concept_id</td>\n",
       "      <td>Metadata</td>\n",
       "      <td>CDM</td>\n",
       "      <td>Field</td>\n",
       "      <td>S</td>\n",
       "      <td>CDM1</td>\n",
       "      <td>20141111</td>\n",
       "      <td>20991231</td>\n",
       "      <td>NaN</td>\n",
       "    </tr>\n",
       "    <tr>\n",
       "      <th>1</th>\n",
       "      <td>1146954</td>\n",
       "      <td>concept.invalid_reason</td>\n",
       "      <td>Metadata</td>\n",
       "      <td>CDM</td>\n",
       "      <td>Field</td>\n",
       "      <td>S</td>\n",
       "      <td>CDM10</td>\n",
       "      <td>20141111</td>\n",
       "      <td>20991231</td>\n",
       "      <td>NaN</td>\n",
       "    </tr>\n",
       "    <tr>\n",
       "      <th>2</th>\n",
       "      <td>1147044</td>\n",
       "      <td>observation_period.observation_period_id</td>\n",
       "      <td>Metadata</td>\n",
       "      <td>CDM</td>\n",
       "      <td>Field</td>\n",
       "      <td>S</td>\n",
       "      <td>CDM100</td>\n",
       "      <td>20141111</td>\n",
       "      <td>20991231</td>\n",
       "      <td>NaN</td>\n",
       "    </tr>\n",
       "    <tr>\n",
       "      <th>3</th>\n",
       "      <td>756315</td>\n",
       "      <td>metadata.metadata_type_concept_id</td>\n",
       "      <td>Metadata</td>\n",
       "      <td>CDM</td>\n",
       "      <td>Field</td>\n",
       "      <td>S</td>\n",
       "      <td>CDM1000</td>\n",
       "      <td>20210925</td>\n",
       "      <td>20991231</td>\n",
       "      <td>NaN</td>\n",
       "    </tr>\n",
       "    <tr>\n",
       "      <th>4</th>\n",
       "      <td>756316</td>\n",
       "      <td>metadata.name</td>\n",
       "      <td>Metadata</td>\n",
       "      <td>CDM</td>\n",
       "      <td>Field</td>\n",
       "      <td>S</td>\n",
       "      <td>CDM1001</td>\n",
       "      <td>20210925</td>\n",
       "      <td>20991231</td>\n",
       "      <td>NaN</td>\n",
       "    </tr>\n",
       "  </tbody>\n",
       "</table>\n",
       "</div>"
      ],
      "text/plain": [
       "   concept_id                              concept_name domain_id  \\\n",
       "0     1146945                        concept.concept_id  Metadata   \n",
       "1     1146954                    concept.invalid_reason  Metadata   \n",
       "2     1147044  observation_period.observation_period_id  Metadata   \n",
       "3      756315         metadata.metadata_type_concept_id  Metadata   \n",
       "4      756316                             metadata.name  Metadata   \n",
       "\n",
       "  vocabulary_id concept_class_id standard_concept concept_code  \\\n",
       "0           CDM            Field                S         CDM1   \n",
       "1           CDM            Field                S        CDM10   \n",
       "2           CDM            Field                S       CDM100   \n",
       "3           CDM            Field                S      CDM1000   \n",
       "4           CDM            Field                S      CDM1001   \n",
       "\n",
       "   valid_start_date  valid_end_date invalid_reason  \n",
       "0          20141111        20991231            NaN  \n",
       "1          20141111        20991231            NaN  \n",
       "2          20141111        20991231            NaN  \n",
       "3          20210925        20991231            NaN  \n",
       "4          20210925        20991231            NaN  "
      ]
     },
     "execution_count": 10,
     "metadata": {},
     "output_type": "execute_result"
    }
   ],
   "source": [
    "concepts_with_ids.head()"
   ]
  },
  {
   "cell_type": "code",
   "execution_count": 142,
   "metadata": {},
   "outputs": [],
   "source": [
    "concept_stage_id[(concept_stage_id.concept_class_id=='Component Class')&(concept_stage_id.invalid_reason=='')].to_csv('component_class.csv', index=False)"
   ]
  },
  {
   "cell_type": "code",
   "execution_count": 11,
   "metadata": {},
   "outputs": [],
   "source": [
    "non_omop_class = ['Author', 'Reference', 'Study', 'PubMedURL', 'ReferenceDOI', 'Clinical trial ID', 'Regimen Variant', \n",
    "                  'ReferenceURL', 'PubMedCentralURL', 'City', 'Cycle Sigs', 'Regimen Stub', 'Study Group', 'Journal', \n",
    "                  'Endpoint', 'Duration', 'Year', 'Numeric', 'Endpoint Type', 'Experimental design', 'Study Class']\n",
    "\n",
    "cc = concept_stage[~concept_stage.concept_class_id.isin(non_omop_class)].merge(concepts_with_ids, on='concept_code', how='left')"
   ]
  },
  {
   "cell_type": "code",
   "execution_count": 131,
   "metadata": {},
   "outputs": [
    {
     "data": {
      "text/plain": [
       "0.111341059602649"
      ]
     },
     "execution_count": 131,
     "metadata": {},
     "output_type": "execute_result"
    }
   ],
   "source": [
    "len(cc[cc.concept_id.isna()])/len(cc)"
   ]
  },
  {
   "cell_type": "code",
   "execution_count": 12,
   "metadata": {},
   "outputs": [
    {
     "data": {
      "text/plain": [
       "concept_class_id_x\n",
       "Regimen            945\n",
       "Regimen Class      413\n",
       "Brand Name         137\n",
       "Component           57\n",
       "Component Class     39\n",
       "Unit                12\n",
       "Condition            8\n",
       "Component Role       3\n",
       "Name: count, dtype: int64"
      ]
     },
     "execution_count": 12,
     "metadata": {},
     "output_type": "execute_result"
    }
   ],
   "source": [
    "# which current hemonc concepts are missing IDs from Athena?\n",
    "\n",
    "cc[cc.concept_id.isna()].concept_class_id_x.value_counts()"
   ]
  },
  {
   "cell_type": "code",
   "execution_count": 13,
   "metadata": {},
   "outputs": [],
   "source": [
    "concept_relationship_stage.concept_code_2 = concept_relationship_stage.apply(lambda x: x.concept_code_2.replace('-', '') if x.vocabulary_id_2 == \"NDC\" else x.concept_code_2, axis=1)\n",
    "cr = concept_relationship_stage[concept_relationship_stage.vocabulary_id_2 != 'HemOnc'].merge(concepts_with_ids, left_on=['concept_code_2', 'vocabulary_id_2'], right_on=['concept_code', 'vocabulary_id'], how='left')"
   ]
  },
  {
   "cell_type": "code",
   "execution_count": 14,
   "metadata": {},
   "outputs": [
    {
     "data": {
      "text/plain": [
       "vocabulary_id_2\n",
       "HemOnc              387300\n",
       "RxNorm               17642\n",
       "NDC                  14588\n",
       "ICD-10-CM             1437\n",
       "ICD-9-CM              1030\n",
       "NCIT                   718\n",
       "RxNorm Extension       645\n",
       "HCPCS                  461\n",
       "ICD-O-3                246\n",
       "SEER Site Recode       164\n",
       "OncoTree               140\n",
       "Name: count, dtype: int64"
      ]
     },
     "execution_count": 14,
     "metadata": {},
     "output_type": "execute_result"
    }
   ],
   "source": [
    "# which non-hemonc vocabs do we need to have available for allowing this to actually extend the CDM?\n",
    "concept_relationship_stage.vocabulary_id_2.value_counts()"
   ]
  },
  {
   "cell_type": "code",
   "execution_count": 15,
   "metadata": {},
   "outputs": [
    {
     "data": {
      "text/html": [
       "<div>\n",
       "<style scoped>\n",
       "    .dataframe tbody tr th:only-of-type {\n",
       "        vertical-align: middle;\n",
       "    }\n",
       "\n",
       "    .dataframe tbody tr th {\n",
       "        vertical-align: top;\n",
       "    }\n",
       "\n",
       "    .dataframe thead th {\n",
       "        text-align: right;\n",
       "    }\n",
       "</style>\n",
       "<table border=\"1\" class=\"dataframe\">\n",
       "  <thead>\n",
       "    <tr style=\"text-align: right;\">\n",
       "      <th></th>\n",
       "      <th>concept_id</th>\n",
       "      <th>concept_name</th>\n",
       "      <th>domain_id</th>\n",
       "      <th>vocabulary_id</th>\n",
       "      <th>concept_class_id</th>\n",
       "      <th>standard_concept</th>\n",
       "      <th>concept_code</th>\n",
       "      <th>valid_start_date</th>\n",
       "      <th>valid_end_date</th>\n",
       "      <th>invalid_reason</th>\n",
       "    </tr>\n",
       "  </thead>\n",
       "  <tbody>\n",
       "  </tbody>\n",
       "</table>\n",
       "</div>"
      ],
      "text/plain": [
       "Empty DataFrame\n",
       "Columns: [concept_id, concept_name, domain_id, vocabulary_id, concept_class_id, standard_concept, concept_code, valid_start_date, valid_end_date, invalid_reason]\n",
       "Index: []"
      ]
     },
     "execution_count": 15,
     "metadata": {},
     "output_type": "execute_result"
    }
   ],
   "source": [
    "concepts_with_ids[(concepts_with_ids.vocabulary_id=='NDC')&(concepts_with_ids.concept_code.str.contains('-'))]"
   ]
  },
  {
   "cell_type": "code",
   "execution_count": 16,
   "metadata": {},
   "outputs": [
    {
     "data": {
      "text/html": [
       "<div>\n",
       "<style scoped>\n",
       "    .dataframe tbody tr th:only-of-type {\n",
       "        vertical-align: middle;\n",
       "    }\n",
       "\n",
       "    .dataframe tbody tr th {\n",
       "        vertical-align: top;\n",
       "    }\n",
       "\n",
       "    .dataframe thead th {\n",
       "        text-align: right;\n",
       "    }\n",
       "</style>\n",
       "<table border=\"1\" class=\"dataframe\">\n",
       "  <thead>\n",
       "    <tr style=\"text-align: right;\">\n",
       "      <th></th>\n",
       "      <th>concept_code_1</th>\n",
       "      <th>concept_code_2</th>\n",
       "      <th>vocabulary_id_1</th>\n",
       "      <th>vocabulary_id_2</th>\n",
       "      <th>relationship_id</th>\n",
       "      <th>valid_start_date</th>\n",
       "      <th>valid_end_date</th>\n",
       "      <th>invalid_reason</th>\n",
       "    </tr>\n",
       "    <tr>\n",
       "      <th>rownames</th>\n",
       "      <th></th>\n",
       "      <th></th>\n",
       "      <th></th>\n",
       "      <th></th>\n",
       "      <th></th>\n",
       "      <th></th>\n",
       "      <th></th>\n",
       "      <th></th>\n",
       "    </tr>\n",
       "  </thead>\n",
       "  <tbody>\n",
       "    <tr>\n",
       "      <th>1100235</th>\n",
       "      <td>4</td>\n",
       "      <td>00024483</td>\n",
       "      <td>HemOnc</td>\n",
       "      <td>NDC</td>\n",
       "      <td>Maps to</td>\n",
       "      <td>2022-02-05</td>\n",
       "      <td>2099-12-31</td>\n",
       "      <td></td>\n",
       "    </tr>\n",
       "    <tr>\n",
       "      <th>285916</th>\n",
       "      <td>4</td>\n",
       "      <td>00024815</td>\n",
       "      <td>HemOnc</td>\n",
       "      <td>NDC</td>\n",
       "      <td>Maps to</td>\n",
       "      <td>2022-02-05</td>\n",
       "      <td>2099-12-31</td>\n",
       "      <td></td>\n",
       "    </tr>\n",
       "    <tr>\n",
       "      <th>310209</th>\n",
       "      <td>4</td>\n",
       "      <td>00025337</td>\n",
       "      <td>HemOnc</td>\n",
       "      <td>NDC</td>\n",
       "      <td>Maps to</td>\n",
       "      <td>2022-02-05</td>\n",
       "      <td>2099-12-31</td>\n",
       "      <td></td>\n",
       "    </tr>\n",
       "    <tr>\n",
       "      <th>410201</th>\n",
       "      <td>4</td>\n",
       "      <td>00026216</td>\n",
       "      <td>HemOnc</td>\n",
       "      <td>NDC</td>\n",
       "      <td>Maps to</td>\n",
       "      <td>2022-02-05</td>\n",
       "      <td>2099-12-31</td>\n",
       "      <td></td>\n",
       "    </tr>\n",
       "    <tr>\n",
       "      <th>510173</th>\n",
       "      <td>6</td>\n",
       "      <td>00931125</td>\n",
       "      <td>HemOnc</td>\n",
       "      <td>NDC</td>\n",
       "      <td>Maps to</td>\n",
       "      <td>2022-02-05</td>\n",
       "      <td>2099-12-31</td>\n",
       "      <td></td>\n",
       "    </tr>\n",
       "    <tr>\n",
       "      <th>...</th>\n",
       "      <td>...</td>\n",
       "      <td>...</td>\n",
       "      <td>...</td>\n",
       "      <td>...</td>\n",
       "      <td>...</td>\n",
       "      <td>...</td>\n",
       "      <td>...</td>\n",
       "      <td>...</td>\n",
       "    </tr>\n",
       "    <tr>\n",
       "      <th>1296910</th>\n",
       "      <td>93818</td>\n",
       "      <td>50242103</td>\n",
       "      <td>HemOnc</td>\n",
       "      <td>NDC</td>\n",
       "      <td>Maps to</td>\n",
       "      <td>2022-02-05</td>\n",
       "      <td>2099-12-31</td>\n",
       "      <td></td>\n",
       "    </tr>\n",
       "    <tr>\n",
       "      <th>1297010</th>\n",
       "      <td>93818</td>\n",
       "      <td>50242105</td>\n",
       "      <td>HemOnc</td>\n",
       "      <td>NDC</td>\n",
       "      <td>Maps to</td>\n",
       "      <td>2022-02-05</td>\n",
       "      <td>2099-12-31</td>\n",
       "      <td></td>\n",
       "    </tr>\n",
       "    <tr>\n",
       "      <th>1396710</th>\n",
       "      <td>94609</td>\n",
       "      <td>25682022</td>\n",
       "      <td>HemOnc</td>\n",
       "      <td>NDC</td>\n",
       "      <td>Maps to</td>\n",
       "      <td>2022-02-05</td>\n",
       "      <td>2099-12-31</td>\n",
       "      <td></td>\n",
       "    </tr>\n",
       "    <tr>\n",
       "      <th>1396810</th>\n",
       "      <td>94609</td>\n",
       "      <td>25682025</td>\n",
       "      <td>HemOnc</td>\n",
       "      <td>NDC</td>\n",
       "      <td>Maps to</td>\n",
       "      <td>2022-02-05</td>\n",
       "      <td>2099-12-31</td>\n",
       "      <td></td>\n",
       "    </tr>\n",
       "    <tr>\n",
       "      <th>1396910</th>\n",
       "      <td>94609</td>\n",
       "      <td>25682028</td>\n",
       "      <td>HemOnc</td>\n",
       "      <td>NDC</td>\n",
       "      <td>Maps to</td>\n",
       "      <td>2022-02-05</td>\n",
       "      <td>2099-12-31</td>\n",
       "      <td></td>\n",
       "    </tr>\n",
       "  </tbody>\n",
       "</table>\n",
       "<p>14588 rows × 8 columns</p>\n",
       "</div>"
      ],
      "text/plain": [
       "         concept_code_1 concept_code_2 vocabulary_id_1 vocabulary_id_2  \\\n",
       "rownames                                                                 \n",
       "1100235               4       00024483          HemOnc             NDC   \n",
       "285916                4       00024815          HemOnc             NDC   \n",
       "310209                4       00025337          HemOnc             NDC   \n",
       "410201                4       00026216          HemOnc             NDC   \n",
       "510173                6       00931125          HemOnc             NDC   \n",
       "...                 ...            ...             ...             ...   \n",
       "1296910           93818       50242103          HemOnc             NDC   \n",
       "1297010           93818       50242105          HemOnc             NDC   \n",
       "1396710           94609       25682022          HemOnc             NDC   \n",
       "1396810           94609       25682025          HemOnc             NDC   \n",
       "1396910           94609       25682028          HemOnc             NDC   \n",
       "\n",
       "         relationship_id valid_start_date valid_end_date invalid_reason  \n",
       "rownames                                                                 \n",
       "1100235          Maps to       2022-02-05     2099-12-31                 \n",
       "285916           Maps to       2022-02-05     2099-12-31                 \n",
       "310209           Maps to       2022-02-05     2099-12-31                 \n",
       "410201           Maps to       2022-02-05     2099-12-31                 \n",
       "510173           Maps to       2022-02-05     2099-12-31                 \n",
       "...                  ...              ...            ...            ...  \n",
       "1296910          Maps to       2022-02-05     2099-12-31                 \n",
       "1297010          Maps to       2022-02-05     2099-12-31                 \n",
       "1396710          Maps to       2022-02-05     2099-12-31                 \n",
       "1396810          Maps to       2022-02-05     2099-12-31                 \n",
       "1396910          Maps to       2022-02-05     2099-12-31                 \n",
       "\n",
       "[14588 rows x 8 columns]"
      ]
     },
     "execution_count": 16,
     "metadata": {},
     "output_type": "execute_result"
    }
   ],
   "source": [
    "concept_relationship_stage[concept_relationship_stage.vocabulary_id_2=='NDC']"
   ]
  },
  {
   "cell_type": "code",
   "execution_count": null,
   "metadata": {},
   "outputs": [],
   "source": []
  },
  {
   "cell_type": "code",
   "execution_count": 17,
   "metadata": {},
   "outputs": [
    {
     "data": {
      "text/plain": [
       "vocabulary_id\n",
       "RxNorm Extension        2145325\n",
       "NDC                     1195711\n",
       "RxNorm                   308709\n",
       "OSM                      203339\n",
       "ICD10CM                   99130\n",
       "ICDO3                     64471\n",
       "NAACCR                    34473\n",
       "ICD9CM                    17564\n",
       "HCPCS                     11948\n",
       "HemOnc                     8028\n",
       "Cancer Modifier            6043\n",
       "OMOP Extension             1444\n",
       "UCUM                       1120\n",
       "CDM                        1060\n",
       "OncoTree                    885\n",
       "Relationship                718\n",
       "Concept Class               423\n",
       "UB04 Typ bill               298\n",
       "SOPT                        168\n",
       "Vocabulary                  148\n",
       "Condition Type              118\n",
       "Procedure Type               97\n",
       "Type Concept                 80\n",
       "Domain                       65\n",
       "UB04 Pt dis status           55\n",
       "Cost                         51\n",
       "Observation Type             29\n",
       "UB04 Point of Origin         23\n",
       "Condition Status             22\n",
       "Visit                        19\n",
       "Visit Type                   18\n",
       "Episode                      18\n",
       "Drug Type                    16\n",
       "Death Type                   14\n",
       "US Census                    13\n",
       "Plan Stop Reason             13\n",
       "Meas Type                    12\n",
       "Plan                         11\n",
       "Note Type                    10\n",
       "Cost Type                     8\n",
       "Korean Revenue Code           7\n",
       "Sponsor                       6\n",
       "UB04 Pri Typ of Adm           6\n",
       "Obs Period Type               6\n",
       "Episode Type                  5\n",
       "Device Type                   4\n",
       "Metadata                      2\n",
       "Language                      1\n",
       "Name: count, dtype: int64"
      ]
     },
     "execution_count": 17,
     "metadata": {},
     "output_type": "execute_result"
    }
   ],
   "source": [
    "concepts_with_ids.vocabulary_id.value_counts()"
   ]
  },
  {
   "cell_type": "code",
   "execution_count": 18,
   "metadata": {},
   "outputs": [
    {
     "data": {
      "text/plain": [
       "vocabulary_id_2\n",
       "NDC                 10615\n",
       "ICD-10-CM            1437\n",
       "ICD-9-CM             1030\n",
       "NCIT                  718\n",
       "ICD-O-3               246\n",
       "SEER Site Recode      164\n",
       "HCPCS                   4\n",
       "RxNorm                  1\n",
       "Name: count, dtype: int64"
      ]
     },
     "execution_count": 18,
     "metadata": {},
     "output_type": "execute_result"
    }
   ],
   "source": [
    "# not sure how much this matters, but there seems to be some issues with hemonc mappings to NDC - codes are a bit of a mish-mash with dropped hyphens and leading 0s removed\n",
    "cr[cr.concept_id.isna()].vocabulary_id_2.value_counts()"
   ]
  },
  {
   "cell_type": "code",
   "execution_count": 19,
   "metadata": {},
   "outputs": [],
   "source": [
    "code_mods = concept_stage.merge(\n",
    "    concepts_with_ids[\n",
    "        ['concept_code', 'concept_id', 'vocabulary_id', 'concept_name']\n",
    "    ], \n",
    "    on=['concept_code', 'vocabulary_id'],\n",
    "    how='left'\n",
    ")"
   ]
  },
  {
   "cell_type": "code",
   "execution_count": 20,
   "metadata": {},
   "outputs": [
    {
     "data": {
      "text/html": [
       "<div>\n",
       "<style scoped>\n",
       "    .dataframe tbody tr th:only-of-type {\n",
       "        vertical-align: middle;\n",
       "    }\n",
       "\n",
       "    .dataframe tbody tr th {\n",
       "        vertical-align: top;\n",
       "    }\n",
       "\n",
       "    .dataframe thead th {\n",
       "        text-align: right;\n",
       "    }\n",
       "</style>\n",
       "<table border=\"1\" class=\"dataframe\">\n",
       "  <thead>\n",
       "    <tr style=\"text-align: right;\">\n",
       "      <th></th>\n",
       "      <th>concept_name_x</th>\n",
       "      <th>domain_id</th>\n",
       "      <th>vocabulary_id</th>\n",
       "      <th>concept_class_id</th>\n",
       "      <th>standard_concept</th>\n",
       "      <th>concept_code</th>\n",
       "      <th>valid_start_date</th>\n",
       "      <th>valid_end_date</th>\n",
       "      <th>invalid_reason</th>\n",
       "      <th>concept_id</th>\n",
       "      <th>concept_name_y</th>\n",
       "    </tr>\n",
       "  </thead>\n",
       "  <tbody>\n",
       "    <tr>\n",
       "      <th>0</th>\n",
       "      <td>Eluvixtamab</td>\n",
       "      <td>drug</td>\n",
       "      <td>HemOnc</td>\n",
       "      <td>Component</td>\n",
       "      <td></td>\n",
       "      <td>1</td>\n",
       "      <td>2019-05-27</td>\n",
       "      <td>2099-12-31</td>\n",
       "      <td></td>\n",
       "      <td>35802855.0</td>\n",
       "      <td>AMG 330</td>\n",
       "    </tr>\n",
       "    <tr>\n",
       "      <th>55</th>\n",
       "      <td>BHQ-880</td>\n",
       "      <td>drug</td>\n",
       "      <td>HemOnc</td>\n",
       "      <td>Component</td>\n",
       "      <td></td>\n",
       "      <td>57</td>\n",
       "      <td>2019-05-27</td>\n",
       "      <td>2099-12-31</td>\n",
       "      <td></td>\n",
       "      <td>35802910.0</td>\n",
       "      <td>BHQ880</td>\n",
       "    </tr>\n",
       "    <tr>\n",
       "      <th>57</th>\n",
       "      <td>BCG vaccine</td>\n",
       "      <td>drug</td>\n",
       "      <td>HemOnc</td>\n",
       "      <td>Component</td>\n",
       "      <td></td>\n",
       "      <td>59</td>\n",
       "      <td>2019-05-27</td>\n",
       "      <td>2099-12-31</td>\n",
       "      <td></td>\n",
       "      <td>35802912.0</td>\n",
       "      <td>Bacillus Calmette-Guerin</td>\n",
       "    </tr>\n",
       "    <tr>\n",
       "      <th>208</th>\n",
       "      <td>Andexanet alfa</td>\n",
       "      <td>drug</td>\n",
       "      <td>HemOnc</td>\n",
       "      <td>Component</td>\n",
       "      <td></td>\n",
       "      <td>211</td>\n",
       "      <td>2019-05-27</td>\n",
       "      <td>2099-12-31</td>\n",
       "      <td></td>\n",
       "      <td>35803063.0</td>\n",
       "      <td>Factor Xa recombinant inactivated-zhzo</td>\n",
       "    </tr>\n",
       "    <tr>\n",
       "      <th>226</th>\n",
       "      <td>Leucovorin</td>\n",
       "      <td>drug</td>\n",
       "      <td>HemOnc</td>\n",
       "      <td>Component</td>\n",
       "      <td></td>\n",
       "      <td>229</td>\n",
       "      <td>2019-05-27</td>\n",
       "      <td>2099-12-31</td>\n",
       "      <td></td>\n",
       "      <td>35803081.0</td>\n",
       "      <td>Folinic acid</td>\n",
       "    </tr>\n",
       "    <tr>\n",
       "      <th>...</th>\n",
       "      <td>...</td>\n",
       "      <td>...</td>\n",
       "      <td>...</td>\n",
       "      <td>...</td>\n",
       "      <td>...</td>\n",
       "      <td>...</td>\n",
       "      <td>...</td>\n",
       "      <td>...</td>\n",
       "      <td>...</td>\n",
       "      <td>...</td>\n",
       "      <td>...</td>\n",
       "    </tr>\n",
       "    <tr>\n",
       "      <th>54790</th>\n",
       "      <td>Docetaxel and Ziv-aflibercept</td>\n",
       "      <td>regimen</td>\n",
       "      <td>HemOnc</td>\n",
       "      <td>Regimen</td>\n",
       "      <td>S</td>\n",
       "      <td>76409</td>\n",
       "      <td>2019-05-27</td>\n",
       "      <td>2099-12-31</td>\n",
       "      <td></td>\n",
       "      <td>905812.0</td>\n",
       "      <td>Docetaxel and ziv-Aflibercept</td>\n",
       "    </tr>\n",
       "    <tr>\n",
       "      <th>60769</th>\n",
       "      <td>HPV Oropharyngeal cancer</td>\n",
       "      <td>condition</td>\n",
       "      <td>HemOnc</td>\n",
       "      <td>Condition</td>\n",
       "      <td></td>\n",
       "      <td>83479</td>\n",
       "      <td>2019-07-22</td>\n",
       "      <td>2099-12-31</td>\n",
       "      <td></td>\n",
       "      <td>42542448.0</td>\n",
       "      <td>HPV-positive Oropharyngeal cancer</td>\n",
       "    </tr>\n",
       "    <tr>\n",
       "      <th>67099</th>\n",
       "      <td>Nystatin</td>\n",
       "      <td>drug</td>\n",
       "      <td>HemOnc</td>\n",
       "      <td>Component</td>\n",
       "      <td></td>\n",
       "      <td>91138</td>\n",
       "      <td>2019-07-22</td>\n",
       "      <td>2099-12-31</td>\n",
       "      <td></td>\n",
       "      <td>35101066.0</td>\n",
       "      <td>Mycostatin</td>\n",
       "    </tr>\n",
       "    <tr>\n",
       "      <th>67791</th>\n",
       "      <td>Mycostatin</td>\n",
       "      <td>drug</td>\n",
       "      <td>HemOnc</td>\n",
       "      <td>Brand Name</td>\n",
       "      <td></td>\n",
       "      <td>91912</td>\n",
       "      <td>2019-07-22</td>\n",
       "      <td>2099-12-31</td>\n",
       "      <td></td>\n",
       "      <td>35101023.0</td>\n",
       "      <td>Nystatin</td>\n",
       "    </tr>\n",
       "    <tr>\n",
       "      <th>69267</th>\n",
       "      <td>PIK3CA Breast cancer</td>\n",
       "      <td>condition</td>\n",
       "      <td>HemOnc</td>\n",
       "      <td>Condition</td>\n",
       "      <td></td>\n",
       "      <td>93630</td>\n",
       "      <td>2019-07-22</td>\n",
       "      <td>2099-12-31</td>\n",
       "      <td></td>\n",
       "      <td>42542449.0</td>\n",
       "      <td>PIK3CA-mutated Breast cancer</td>\n",
       "    </tr>\n",
       "  </tbody>\n",
       "</table>\n",
       "<p>129 rows × 11 columns</p>\n",
       "</div>"
      ],
      "text/plain": [
       "                      concept_name_x  domain_id vocabulary_id  \\\n",
       "0                        Eluvixtamab       drug        HemOnc   \n",
       "55                           BHQ-880       drug        HemOnc   \n",
       "57                       BCG vaccine       drug        HemOnc   \n",
       "208                   Andexanet alfa       drug        HemOnc   \n",
       "226                       Leucovorin       drug        HemOnc   \n",
       "...                              ...        ...           ...   \n",
       "54790  Docetaxel and Ziv-aflibercept    regimen        HemOnc   \n",
       "60769       HPV Oropharyngeal cancer  condition        HemOnc   \n",
       "67099                       Nystatin       drug        HemOnc   \n",
       "67791                     Mycostatin       drug        HemOnc   \n",
       "69267           PIK3CA Breast cancer  condition        HemOnc   \n",
       "\n",
       "      concept_class_id standard_concept concept_code valid_start_date  \\\n",
       "0            Component                             1       2019-05-27   \n",
       "55           Component                            57       2019-05-27   \n",
       "57           Component                            59       2019-05-27   \n",
       "208          Component                           211       2019-05-27   \n",
       "226          Component                           229       2019-05-27   \n",
       "...                ...              ...          ...              ...   \n",
       "54790          Regimen                S        76409       2019-05-27   \n",
       "60769        Condition                         83479       2019-07-22   \n",
       "67099        Component                         91138       2019-07-22   \n",
       "67791       Brand Name                         91912       2019-07-22   \n",
       "69267        Condition                         93630       2019-07-22   \n",
       "\n",
       "      valid_end_date invalid_reason  concept_id  \\\n",
       "0         2099-12-31                 35802855.0   \n",
       "55        2099-12-31                 35802910.0   \n",
       "57        2099-12-31                 35802912.0   \n",
       "208       2099-12-31                 35803063.0   \n",
       "226       2099-12-31                 35803081.0   \n",
       "...              ...            ...         ...   \n",
       "54790     2099-12-31                   905812.0   \n",
       "60769     2099-12-31                 42542448.0   \n",
       "67099     2099-12-31                 35101066.0   \n",
       "67791     2099-12-31                 35101023.0   \n",
       "69267     2099-12-31                 42542449.0   \n",
       "\n",
       "                               concept_name_y  \n",
       "0                                     AMG 330  \n",
       "55                                     BHQ880  \n",
       "57                   Bacillus Calmette-Guerin  \n",
       "208    Factor Xa recombinant inactivated-zhzo  \n",
       "226                              Folinic acid  \n",
       "...                                       ...  \n",
       "54790           Docetaxel and ziv-Aflibercept  \n",
       "60769       HPV-positive Oropharyngeal cancer  \n",
       "67099                              Mycostatin  \n",
       "67791                                Nystatin  \n",
       "69267            PIK3CA-mutated Breast cancer  \n",
       "\n",
       "[129 rows x 11 columns]"
      ]
     },
     "execution_count": 20,
     "metadata": {},
     "output_type": "execute_result"
    }
   ],
   "source": [
    "# there are some hemonc components that have changed concept_code? this will not be backwards compatible?\n",
    "code_mods[(code_mods.concept_name_x != code_mods.concept_name_y) & ~code_mods.concept_class_id.isin(non_omop_class) & code_mods.concept_name_y.notna()]"
   ]
  },
  {
   "cell_type": "code",
   "execution_count": 50,
   "metadata": {},
   "outputs": [
    {
     "data": {
      "text/plain": [
       "vocabulary_id\n",
       "RxNorm Extension        2145325\n",
       "NDC                     1195711\n",
       "RxNorm                   308709\n",
       "OSM                      203339\n",
       "ICD10CM                   99130\n",
       "ICDO3                     64471\n",
       "NAACCR                    34473\n",
       "ICD9CM                    17564\n",
       "HCPCS                     11948\n",
       "HemOnc                     8028\n",
       "Cancer Modifier            6043\n",
       "OMOP Extension             1444\n",
       "UCUM                       1120\n",
       "CDM                        1060\n",
       "OncoTree                    885\n",
       "Relationship                718\n",
       "Concept Class               423\n",
       "UB04 Typ bill               298\n",
       "SOPT                        168\n",
       "Vocabulary                  148\n",
       "Condition Type              118\n",
       "Procedure Type               97\n",
       "Type Concept                 80\n",
       "Domain                       65\n",
       "UB04 Pt dis status           55\n",
       "Cost                         51\n",
       "Observation Type             29\n",
       "UB04 Point of Origin         23\n",
       "Condition Status             22\n",
       "Visit                        19\n",
       "Visit Type                   18\n",
       "Episode                      18\n",
       "Drug Type                    16\n",
       "Death Type                   14\n",
       "US Census                    13\n",
       "Plan Stop Reason             13\n",
       "Meas Type                    12\n",
       "Plan                         11\n",
       "Note Type                    10\n",
       "Cost Type                     8\n",
       "Korean Revenue Code           7\n",
       "Sponsor                       6\n",
       "UB04 Pri Typ of Adm           6\n",
       "Obs Period Type               6\n",
       "Episode Type                  5\n",
       "Device Type                   4\n",
       "Metadata                      2\n",
       "Language                      1\n",
       "Name: count, dtype: int64"
      ]
     },
     "execution_count": 50,
     "metadata": {},
     "output_type": "execute_result"
    }
   ],
   "source": [
    "concepts_with_ids.vocabulary_id.value_counts()"
   ]
  },
  {
   "cell_type": "code",
   "execution_count": 51,
   "metadata": {},
   "outputs": [],
   "source": [
    "vocab_id_lookup = {\n",
    "    'ICD-10-CM': 'ICD10CM',\n",
    "    'ICD-9-CM': 'ICD9CM',\n",
    "    'ICD-O-3': 'ICDO3'\n",
    "}\n",
    "\n",
    "concept_relationship_stage['vocabulary_id'] = concept_relationship_stage.vocabulary_id_2.map(lambda x: vocab_id_lookup[x] if x in vocab_id_lookup else x)"
   ]
  },
  {
   "cell_type": "code",
   "execution_count": 52,
   "metadata": {},
   "outputs": [
    {
     "data": {
      "text/plain": [
       "vocabulary_id\n",
       "HemOnc              387300\n",
       "RxNorm               17642\n",
       "NDC                  14588\n",
       "ICD10CM               1437\n",
       "ICD9CM                1030\n",
       "NCIT                   718\n",
       "RxNorm Extension       645\n",
       "HCPCS                  461\n",
       "ICDO3                  246\n",
       "SEER Site Recode       164\n",
       "OncoTree               140\n",
       "Name: count, dtype: int64"
      ]
     },
     "execution_count": 52,
     "metadata": {},
     "output_type": "execute_result"
    }
   ],
   "source": [
    "concept_relationship_stage.vocabulary_id.value_counts()"
   ]
  },
  {
   "cell_type": "code",
   "execution_count": 54,
   "metadata": {},
   "outputs": [],
   "source": [
    "concept_stage_id = concept_stage.merge(\n",
    "    concepts_with_ids[\n",
    "        ['concept_code', 'concept_id', 'vocabulary_id', 'concept_name'] # note that merging on concept_name shouldn't be required here, but as per above with code mods, some of the concept codes in hemonc have changed over time\n",
    "    ], \n",
    "    how='left'\n",
    ")\n",
    "\n",
    "concept_relationship_stage_id = concept_relationship_stage.merge(\n",
    "    concepts_with_ids[\n",
    "        ['concept_code', 'concept_id', 'vocabulary_id']\n",
    "    ].rename(\n",
    "        columns={'concept_code': 'concept_code_1', \n",
    "                 'concept_id': 'concept_id_1', \n",
    "                 'vocabulary_id': 'vocabulary_id_1'}\n",
    "        ), \n",
    "    how='left'\n",
    ")\n",
    "\n",
    "concept_relationship_stage_id = concept_relationship_stage_id.merge(\n",
    "    concepts_with_ids[\n",
    "        ['concept_code', 'concept_id', 'vocabulary_id']\n",
    "    ].rename(\n",
    "        columns={'concept_code': 'concept_code_2', \n",
    "                 'concept_id': 'concept_id_2'}\n",
    "        ), \n",
    "    how='left'\n",
    ")"
   ]
  },
  {
   "cell_type": "code",
   "execution_count": 21,
   "metadata": {},
   "outputs": [],
   "source": [
    "vocabularies = pd.read_csv(CDM_PATH / 'VOCABULARY.csv', delimiter='\\t', low_memory=False)\n",
    "concept_class = pd.read_csv(CDM_PATH / 'CONCEPT_CLASS.csv', delimiter='\\t', low_memory=False)\n",
    "domain = pd.read_csv(CDM_PATH / 'DOMAIN.csv', delimiter='\\t', low_memory=False)\n",
    "relationship = pd.read_csv(CDM_PATH / 'RELATIONSHIP.csv', delimiter='\\t', low_memory=False)"
   ]
  },
  {
   "cell_type": "code",
   "execution_count": 22,
   "metadata": {},
   "outputs": [],
   "source": [
    "vocab_concepts = vocabularies.merge(\n",
    "    concepts_with_ids[[c for c in concepts_with_ids.columns if c != 'vocabulary_id']], \n",
    "    left_on='vocabulary_concept_id', \n",
    "    right_on='concept_id'\n",
    ")\n",
    "\n",
    "rel_concepts = relationship.merge(\n",
    "    concepts_with_ids[[c for c in concepts_with_ids.columns if c != 'relationship_id']], \n",
    "    left_on='relationship_concept_id', \n",
    "    right_on='concept_id'\n",
    ")\n",
    "\n",
    "domain_concepts = domain.merge(\n",
    "    concepts_with_ids[[c for c in concepts_with_ids.columns if c != 'domain_id']], \n",
    "    left_on='domain_concept_id', \n",
    "    right_on='concept_id'\n",
    ")\n",
    "\n",
    "concept_class_concepts = concept_class.merge(\n",
    "    concepts_with_ids[[c for c in concepts_with_ids.columns if c != 'concept_class_id']], \n",
    "    left_on='concept_class_concept_id', \n",
    "    right_on='concept_id'\n",
    ")"
   ]
  },
  {
   "cell_type": "code",
   "execution_count": null,
   "metadata": {},
   "outputs": [],
   "source": []
  },
  {
   "cell_type": "code",
   "execution_count": 32,
   "metadata": {},
   "outputs": [],
   "source": [
    "from omop_alchemy.model.vocabulary import Concept, Vocabulary, Domain, Concept_Class, Relationship, Concept_Relationship, Concept_Ancestor\n",
    "\n",
    "def make_concept(concept_row):\n",
    "    return Concept(concept_id = int(concept_row.concept_id),\n",
    "                   concept_name = concept_row.concept_name,\n",
    "                   domain_id = concept_row.domain_id,\n",
    "                   vocabulary_id = concept_row.vocabulary_id,\n",
    "                   concept_class_id = concept_row.concept_class_id,\n",
    "                   standard_concept = concept_row.standard_concept if not pd.isna(concept_row.standard_concept) else None,\n",
    "                   concept_code = concept_row.concept_code,\n",
    "                   valid_start_date = datetime.strptime(str(concept_row.valid_start_date), '%Y%m%d'), \n",
    "                   valid_end_date = datetime.strptime(str(concept_row.valid_end_date), '%Y%m%d'), \n",
    "                   invalid_reason = concept_row.invalid_reason if not pd.isna(concept_row.invalid_reason) else None)\n",
    "\n",
    "def make_vocab(vocab_row):\n",
    "    v = Vocabulary(vocabulary_id = vocab_row.vocabulary_id,\n",
    "                   vocabulary_name = vocab_row.vocabulary_name,\n",
    "                   vocabulary_reference = vocab_row.vocabulary_reference,\n",
    "                   vocabulary_concept_id = vocab_row.vocabulary_concept_id, \n",
    "                   vocabulary_version = vocab_row.vocabulary_version)\n",
    "    v.vocabulary_concept = vocab_row.concept_object\n",
    "    return v\n",
    "    \n",
    "def make_domain(domain_row):\n",
    "    d = Domain(domain_id = domain_row.domain_id,\n",
    "               domain_name = domain_row.domain_name,\n",
    "               domain_concept_id = domain_row.domain_concept_id)\n",
    "    d.domain_concept = domain_row.concept_object\n",
    "    return d\n",
    "\n",
    "def make_concept_class(cc_row):\n",
    "    c = Concept_Class(concept_class_id = cc_row.concept_class_id,\n",
    "                      concept_class_name = cc_row.concept_class_name,\n",
    "                      concept_class_concept_id = cc_row.concept_class_concept_id)\n",
    "    c.concept_class_concept = cc_row.concept_object\n",
    "    return c\n",
    "\n",
    "\n",
    "def make_rel(r_row):\n",
    "    r = Relationship(relationship_id = r_row.relationship_id,\n",
    "                      relationship_name = r_row.relationship_name,\n",
    "                      is_hierarchical = r_row.is_hierarchical,\n",
    "                      defines_ancestry = r_row.defines_ancestry,\n",
    "                      reverse_relationship_id = r_row.reverse_relationship_id,\n",
    "                      relationship_concept_id = r_row.relationship_concept_id)\n",
    "    r.relationship_concept = r_row.concept_object\n",
    "    return r"
   ]
  },
  {
   "cell_type": "code",
   "execution_count": null,
   "metadata": {},
   "outputs": [],
   "source": [
    "# preserve referential integrity by adding all the concept class, vocabulary and domain concepts in one go\n",
    "meta_concepts = pd.concat([concept_class_concepts.concept_id, domain_concepts.concept_id, vocab_concepts.concept_id, rel_concepts.concept_id])\n",
    "meta_concepts_df = concepts_with_ids.merge(meta_concepts)\n",
    "meta_concepts_df['concept_object'] = meta_concepts_df.apply(make_concept, axis=1)\n",
    "\n",
    "\n",
    "concept_class_concepts = concept_class_concepts.merge(meta_concepts_df[['concept_id', 'concept_object']], left_on='concept_class_concept_id', right_on='concept_id')\n",
    "domain_concepts = domain_concepts.merge(meta_concepts_df[['concept_id', 'concept_object']], left_on='domain_concept_id', right_on='concept_id')\n",
    "vocab_concepts = vocab_concepts.merge(meta_concepts_df[['concept_id', 'concept_object']], left_on='vocabulary_concept_id', right_on='concept_id')\n",
    "rel_concepts = rel_concepts.merge(meta_concepts_df[['concept_id', 'concept_object']], left_on='relationship_concept_id', right_on='concept_id')"
   ]
  },
  {
   "cell_type": "code",
   "execution_count": null,
   "metadata": {},
   "outputs": [],
   "source": [
    "# query why one of the vocabularies has a null ID from athena?\n",
    "vocab_concepts.vocabulary_id = vocab_concepts.vocabulary_id.fillna('empty') "
   ]
  },
  {
   "cell_type": "code",
   "execution_count": 86,
   "metadata": {},
   "outputs": [],
   "source": [
    "with so.Session(engine) as sess:\n",
    "    existing_vocabs = pd.DataFrame(sess.query(Concept.vocabulary_id).distinct().all())\n",
    "    existing_concepts = pd.DataFrame(sess.query(Concept.concept_id).distinct().all())"
   ]
  },
  {
   "cell_type": "code",
   "execution_count": 114,
   "metadata": {},
   "outputs": [],
   "source": [
    "def make_ancestor(a_row):\n",
    "    return Concept_Ancestor(ancestor_concept_id = int(a_row.ancestor_concept_id),\n",
    "                            descendant_concept_id = int(a_row.descendant_concept_id))\n",
    "                            #min_levels_of_separation = a_row.min_levels_of_separation,\n",
    "                            #max_levels_of_separation = a_row.max_levels_of_separation)\n",
    "                    "
   ]
  },
  {
   "cell_type": "code",
   "execution_count": 119,
   "metadata": {},
   "outputs": [],
   "source": [
    "with so.Session(engine) as sess:\n",
    "    sess.add_all(concepts_with_ids[concepts_with_ids.vocabulary_id=='Cancer Modifier'].apply(make_concept, axis=1))\n",
    "    sess.commit()"
   ]
  },
  {
   "cell_type": "code",
   "execution_count": null,
   "metadata": {},
   "outputs": [],
   "source": [
    "# create metadata concepts & make objects for other reference tables\n",
    "\n",
    "concept_class_concepts['ob'] = concept_class_concepts.apply(make_concept_class, axis=1)\n",
    "domain_concepts['ob'] = domain_concepts.apply(make_domain, axis=1)\n",
    "vocab_concepts['ob'] = vocab_concepts.apply(make_vocab, axis=1)\n",
    "rel_concepts['ob'] = rel_concepts.apply(make_rel, axis=1)\n",
    "\n",
    "all_ob = pd.concat([concept_class_concepts[['concept_id_x', 'ob']], \n",
    "                    domain_concepts[['concept_id_x', 'ob']], \n",
    "                    vocab_concepts[['concept_id_x', 'ob']], \n",
    "                    rel_concepts[['concept_id_x', 'ob']]])"
   ]
  },
  {
   "cell_type": "code",
   "execution_count": null,
   "metadata": {},
   "outputs": [],
   "source": [
    "\n",
    "with so.Session(engine) as sess:\n",
    "    sess.add_all(list(concept_class_concepts.ob))\n",
    "    sess.add_all(list(domain_concepts.ob))\n",
    "    sess.add_all(list(vocab_concepts.ob))\n",
    "    sess.add_all(list(rel_concepts.ob))\n",
    "    sess.add_all(list(meta_concepts_df.concept_object))\n",
    "    sess.commit()"
   ]
  },
  {
   "cell_type": "code",
   "execution_count": null,
   "metadata": {},
   "outputs": [],
   "source": [
    "concept_stage_id[~concept_stage_id.concept_class_id.isin(non_omop_class) & \n",
    "                 ~concept_stage_id.vocabulary_id.isin(['Concept Class', 'Domain', 'Vocabulary', 'Relationship'])  \n",
    "#                 &~concept_stage_id.concept_id.isin(existing_concepts.concept_id.unique())\n",
    "                 ].concept_class_id.value_counts()"
   ]
  },
  {
   "cell_type": "code",
   "execution_count": 129,
   "metadata": {},
   "outputs": [
    {
     "data": {
      "text/plain": [
       "0"
      ]
     },
     "execution_count": 129,
     "metadata": {},
     "output_type": "execute_result"
    }
   ],
   "source": [
    "len(concepts_with_ids[concepts_with_ids.vocabulary_id=='Gender'])"
   ]
  },
  {
   "cell_type": "code",
   "execution_count": 65,
   "metadata": {},
   "outputs": [],
   "source": [
    "concepts_to_add = concept_relationship_stage_id[\n",
    "    ['concept_code_2', 'vocabulary_id']\n",
    "    ].drop_duplicates().merge(\n",
    "        concepts_with_ids, \n",
    "        left_on=['concept_code_2', 'vocabulary_id'], \n",
    "        right_on=['concept_code', 'vocabulary_id']\n",
    "    )"
   ]
  },
  {
   "cell_type": "code",
   "execution_count": 66,
   "metadata": {},
   "outputs": [
    {
     "data": {
      "text/plain": [
       "1880"
      ]
     },
     "execution_count": 66,
     "metadata": {},
     "output_type": "execute_result"
    }
   ],
   "source": [
    "len(concepts_to_add[~concepts_to_add.concept_id.isin(existing_concepts.concept_id.unique())])"
   ]
  },
  {
   "cell_type": "code",
   "execution_count": 68,
   "metadata": {},
   "outputs": [],
   "source": [
    "#missed = concepts_to_add[~concepts_to_add.concept_id.isin(existing_concepts.concept_id.unique())].apply(make_concept, axis=1)"
   ]
  },
  {
   "cell_type": "code",
   "execution_count": null,
   "metadata": {},
   "outputs": [],
   "source": [
    "ho_conc = concepts_with_ids[concepts_with_ids.vocabulary_id=='HemOnc'].apply(make_concept, axis=1)\n",
    "non_ho_conc = concepts_to_add[~concepts_to_add.vocabulary_id.isin(['Concept Class', 'Domain', 'Vocabulary', 'Relationship', 'HemOnc'])].apply(make_concept, axis=1)"
   ]
  },
  {
   "cell_type": "code",
   "execution_count": 69,
   "metadata": {},
   "outputs": [],
   "source": [
    "with so.Session(engine) as sess:\n",
    "    sess.add_all(ho_conc)\n",
    "    sess.add_all(non_ho_conc)\n",
    "    sess.commit()"
   ]
  },
  {
   "cell_type": "code",
   "execution_count": 35,
   "metadata": {},
   "outputs": [],
   "source": [
    "def make_relationship(rel_row):\n",
    "    return Concept_Relationship(concept_id_1 = rel_row.concept_id_1,\n",
    "                         concept_id_2 = rel_row.concept_id_2,\n",
    "                         relationship_id = rel_row.relationship_id)\n",
    "\n",
    "\n",
    "ho_rels = concept_relationship_stage_id[\n",
    "    concept_relationship_stage_id.concept_id_1.notna() &\n",
    "    concept_relationship_stage_id.concept_id_2.notna()\n",
    "    ].drop_duplicates(\n",
    "        subset=['concept_id_1', 'concept_id_2', 'relationship_id']\n",
    "        ).apply(make_relationship, axis=1)"
   ]
  },
  {
   "cell_type": "code",
   "execution_count": null,
   "metadata": {},
   "outputs": [],
   "source": []
  },
  {
   "cell_type": "code",
   "execution_count": 74,
   "metadata": {},
   "outputs": [
    {
     "data": {
      "text/plain": [
       "vocabulary_id_2\n",
       "ICD-10-CM    1414\n",
       "ICD-9-CM      876\n",
       "ICD-O-3       246\n",
       "Name: count, dtype: int64"
      ]
     },
     "execution_count": 74,
     "metadata": {},
     "output_type": "execute_result"
    }
   ],
   "source": [
    "concept_relationship_stage_id[\n",
    "    concept_relationship_stage_id.concept_id_1.notna() &\n",
    "    concept_relationship_stage_id.concept_id_2.notna() & \n",
    "    concept_relationship_stage_id.concept_id_2.isin(concepts_to_add[~concepts_to_add.concept_id.isin(existing_concepts.concept_id.unique())].concept_id.unique()) & \n",
    "    concept_relationship_stage_id.relationship_id.str.contains('map', case=False)\n",
    "    ].vocabulary_id_2.value_counts()"
   ]
  },
  {
   "cell_type": "code",
   "execution_count": 77,
   "metadata": {},
   "outputs": [],
   "source": [
    "# missed_rels = concept_relationship_stage_id[\n",
    "#     concept_relationship_stage_id.concept_id_1.notna() &\n",
    "#     concept_relationship_stage_id.concept_id_2.notna() & \n",
    "#     concept_relationship_stage_id.concept_id_2.isin(concepts_to_add[~concepts_to_add.concept_id.isin(existing_concepts.concept_id.unique())].concept_id.unique()) & \n",
    "#     concept_relationship_stage_id.relationship_id.str.contains('map', case=False)\n",
    "#     ].drop_duplicates(\n",
    "#         subset=['concept_id_1', 'concept_id_2', 'relationship_id']\n",
    "#         ).apply(make_relationship, axis=1)"
   ]
  },
  {
   "cell_type": "code",
   "execution_count": 115,
   "metadata": {},
   "outputs": [],
   "source": [
    "\n",
    "ancestors = concept_ancestors.merge(\n",
    "    existing_concepts[\n",
    "        ['concept_id']\n",
    "        ].rename(columns={'concept_id': 'ancestor_concept_id'})\n",
    "    ).merge(\n",
    "        existing_concepts[\n",
    "            ['concept_id']\n",
    "        ].rename(columns={'concept_id': 'descendant_concept_id'})\n",
    "    ).apply(make_ancestor, axis=1)  "
   ]
  },
  {
   "cell_type": "code",
   "execution_count": 127,
   "metadata": {},
   "outputs": [],
   "source": [
    "ancestors = concept_ancestors.merge(\n",
    "    concepts_with_ids[concepts_with_ids.vocabulary_id=='Cancer Modifier'][\n",
    "        ['concept_id']\n",
    "        ].rename(columns={'concept_id': 'ancestor_concept_id'})\n",
    "    ).merge(\n",
    "        concepts_with_ids[concepts_with_ids.vocabulary_id=='Cancer Modifier'][\n",
    "            ['concept_id']\n",
    "        ].rename(columns={'concept_id': 'descendant_concept_id'})\n",
    "    ).apply(make_ancestor, axis=1)  "
   ]
  },
  {
   "cell_type": "code",
   "execution_count": 128,
   "metadata": {},
   "outputs": [],
   "source": [
    "with so.Session(engine) as sess:\n",
    "    sess.add_all(list(ancestors))\n",
    "    sess.commit()"
   ]
  },
  {
   "cell_type": "code",
   "execution_count": 84,
   "metadata": {},
   "outputs": [],
   "source": [
    "with so.Session(engine) as sess:\n",
    "    sess.add_all(ho_rels)\n",
    "    #sess.add_all(missed_rels)\n",
    "    sess.commit()"
   ]
  },
  {
   "cell_type": "code",
   "execution_count": null,
   "metadata": {},
   "outputs": [],
   "source": [
    "# for vocabulary, vocab_concepts in concepts_with_ids.groupby('vocabulary_id'):\n",
    "#     if vocabulary not in ['Concept Class', 'Domain', 'Vocabulary', 'Relationship'] + [e[0] for e in existing_vocabs]:\n",
    "#         # should not have to filter on non-null concept names here?\n",
    "#         vocab_concept_objects = vocab_concepts[~vocab_concepts.concept_name.isna()].apply(make_concept, axis=1)\n",
    "#         print(vocabulary, len(vocab_concept_objects))\n",
    "#         with so.Session(engine) as sess:\n",
    "#             sess.add_all(vocab_concept_objects)\n",
    "#             sess.commit()"
   ]
  },
  {
   "cell_type": "code",
   "execution_count": null,
   "metadata": {},
   "outputs": [],
   "source": [
    "# due to misalignment with current athena version we have to accept gap in concept_id completeness even for classes that should have them\n",
    "\n",
    "concept_stage_id[concept_stage_id.concept_id.isna() & ~concept_stage_id.concept_class_id.isin(non_omop_class)].head()"
   ]
  },
  {
   "cell_type": "code",
   "execution_count": null,
   "metadata": {},
   "outputs": [],
   "source": [
    "# helper mapping data / merges within OMOP concepts\n",
    "is_a = concept_relationship_stage_id[\n",
    "    concept_relationship_stage_id.relationship_id=='Is a'\n",
    "    ][['concept_code_1', 'concept_code_2', 'concept_id_1', 'concept_id_2']]\n",
    "\n",
    "\n",
    "brand_mappings = concept_stage_id[\n",
    "    concept_stage_id.concept_class_id=='Brand Name'\n",
    "    ].merge(\n",
    "        concept_relationship_stage_id[\n",
    "            concept_relationship_stage_id.relationship_id=='Has brand name'\n",
    "        ][['concept_code_1', 'concept_code_2', 'concept_id_1', 'concept_id_2']], \n",
    "        left_on='concept_code', \n",
    "        right_on='concept_code_2', \n",
    "        how='left'\n",
    "    )\n",
    "\n",
    "component_df = concept_stage_id[\n",
    "    concept_stage_id.concept_class_id.isin(['Component', 'Procedure'])\n",
    "    ].copy()\n",
    "\n",
    "component_class_df = concept_stage_id[\n",
    "    concept_stage_id.concept_class_id=='Component Class'\n",
    "    ][['concept_name','concept_code','concept_id']].rename(\n",
    "        columns={'concept_code': 'concept_code_2', \n",
    "                 'concept_name': 'concept_class_name'}\n",
    "    )\n",
    "\n",
    "has_modality = concept_relationship_stage_id[\n",
    "    concept_relationship_stage_id.relationship_id=='Has modality'\n",
    "    ][['concept_code_1', 'concept_code_2', 'concept_id_1', 'concept_id_1']]\n",
    "\n",
    "modality_df = concept_stage_id[\n",
    "    concept_stage_id.concept_class_id=='Modality'\n",
    "    ][['concept_name','concept_code','concept_id']].rename(\n",
    "        columns={'concept_code': 'concept_code_2', \n",
    "                 'concept_name': 'modality_name', \n",
    "                 'concept_id': 'concept_id_2'}\n",
    "        )"
   ]
  },
  {
   "cell_type": "code",
   "execution_count": null,
   "metadata": {},
   "outputs": [],
   "source": [
    "route_mappings = {'44954': '26643006', \n",
    "                  '44957': '47625008',\n",
    "                  '44979': '37161004',\n",
    "                  '44994': '6064005',\n",
    "                  '45080': '78421000',\n",
    "                  '45153': '34206005',\n",
    "                  '45215': '372471009',\n",
    "                  '45273': '420254004',\n",
    "                  '45426': '372466002',\n",
    "                  '45531': '46713006',\n",
    "                  '45574': '72607000',\n",
    "                  '45684': '58100008',\n",
    "                  '45939': '447694001'}"
   ]
  },
  {
   "cell_type": "code",
   "execution_count": null,
   "metadata": {},
   "outputs": [],
   "source": [
    "# helper data cleaning / transformation functions\n",
    "\n",
    "def get_enum(e, s):\n",
    "    try:\n",
    "        return e[s.lower().strip().replace('-', '_').replace(' ', '_').replace('/', '_')]\n",
    "    except:\n",
    "        return None\n",
    "\n",
    "def get_date(y, m, d):\n",
    "    try:    \n",
    "        datetime.date(int(y), int(m), int(d))\n",
    "    except:\n",
    "        return None"
   ]
  },
  {
   "cell_type": "code",
   "execution_count": null,
   "metadata": {},
   "outputs": [],
   "source": [
    "# functions to take dataframe rows and return database objects\n",
    "\n",
    "def make_context(context_row):\n",
    "    return Hemonc_Context(context_code = context_row.contextRaw,\n",
    "                          context_name = context_row.contextPretty,\n",
    "                          intent = get_enum(Intent, context_row.intent),\n",
    "                          setting = get_enum(Setting, context_row.intent),\n",
    "                          risk_stratification = get_enum(Risk, context_row.intent),\n",
    "                          phenotype = get_enum(Phenotype, context_row.intent),\n",
    "                          prior_therapy = get_enum(PriorTherapy, context_row.prior_therapy),\n",
    "                          date_added = context_row.date_added)\n",
    "\n",
    "\n",
    "def make_study(study_row):\n",
    "    enrollment_from = get_date(study_row.from_year, study_row.from_month, study_row.from_day)\n",
    "    enrol_to = get_date(study_row.to_year, study_row.to_month, study_row.to_day)\n",
    "    return Hemonc_Study(study_code = study_row.study,\n",
    "                        registry = study_row.registry,\n",
    "                        trial_id = study_row.trial_id,\n",
    "                        condition_code = study_row.concept_code,\n",
    "                        enrollment_from = enrollment_from if not pd.isna(enrollment_from) else None,\n",
    "                        enrollment_to = enrol_to if not pd.isna(enrol_to) else None,\n",
    "                        phase = study_row.phase,\n",
    "                        study_design = get_enum(StudyDesign, study_row.study_design),\n",
    "                        study_design_imputed = study_row.study_design_imputed,\n",
    "                        sact = study_row.sact if not pd.isna(study_row.sact) else None,\n",
    "                        protocol = study_row.protocol,\n",
    "                        fda_reg_study = study_row.fda_reg_study,\n",
    "                        fda_unreg_study = study_row.fda_unreg_study,\n",
    "                        start = study_row.start  if not pd.isna(study_row.start) else None,\n",
    "                        end = study_row.end  if not pd.isna(study_row.end) else None,\n",
    "                        study_group = study_row.study_group,\n",
    "                        sponsor = study_row.sponsor,\n",
    "                        date_added = study_row.date_added if not pd.isna(study_row.date_added) else None, \n",
    "                        date_modified = study_row.date_last_modified if not pd.isna(study_row.date_last_modified) else None\n",
    "                        )\n",
    "\n",
    "def make_regimen(regimen_row):\n",
    "    return Hemonc_Regimen(regimen_cui = regimen_row.regimen_cui,\n",
    "                          regimen_name = regimen_row.regimen)\n",
    "\n",
    "def make_condition(condition_row):\n",
    "    return Hemonc_Condition(condition_code = condition_row.concept_code,\n",
    "                            condition_name = condition_row.concept_name,\n",
    "                            condition_concept_id = int(condition_row.concept_id) if not pd.isna(condition_row.concept_id) else None)\n",
    "\n",
    "\n",
    "def make_component(component_class_row):\n",
    "    return Hemonc_Component(component_code = component_class_row.concept_code,\n",
    "                            component_name = component_class_row.concept_name,\n",
    "                            component_concept_id = int(component_class_row.concept_id) if not pd.isna(component_class_row.concept_id) else None)\n",
    "\n",
    "def make_component_role(role_row):\n",
    "    return Hemonc_Component_Role(regimen_cui = role_row.concept_code_1,\n",
    "                                 component_code = role_row.concept_code_2 if role_row.component_class in ['Component', 'Procedure'] else None,\n",
    "                                 component_class_code = role_row.concept_code_2 if role_row.component_class == 'Component Class' else None,\n",
    "                                 relationship_id = role_row.relationship_id)\n",
    "\n",
    "\n",
    "def make_component_class(component_class_row):\n",
    "    return Hemonc_Component_Class(component_class_code = component_class_row.concept_code_2,\n",
    "                                  component_class_name = component_class_row.concept_class_name,\n",
    "                                  component_class_concept_id = int(component_class_row.concept_id) if not pd.isna(component_class_row.concept_id) else None)\n",
    "\n",
    "def make_branch(branch_row):\n",
    "    return Hemonc_Branch_Conditional(branch_name = branch_row.original,\n",
    "                                     branch_type = branch_row.RULE_TYPE if not pd.isna(branch_row.RULE_TYPE) else BranchConditionalType.other,\n",
    "                                     numeric_min = branch_row.MIN_NUM,\n",
    "                                     numeric_max = branch_row.MAX_NUM,\n",
    "                                     value = branch_row.RULE_VALUE)\n",
    "\n",
    "def make_variant(variant_row):\n",
    "    return Hemonc_Variant(variant_cui = variant_row.variant_cui,\n",
    "                         variant_name = variant_row.variant,\n",
    "                         regimen_cui = variant_row.regimen_cui)\n",
    "\n",
    "\n",
    "def make_reg_part(reg_part_row):\n",
    "    return Hemonc_Regimen_Part(variant_cui = reg_part_row.variant_cui,\n",
    "                               regimen_part_id = reg_part_row.regimen_part_id,\n",
    "                               portion = reg_part_row.portion if not pd.isna(reg_part_row.portion) else None,\n",
    "                               cycle_sig_id = reg_part_row.cyclesigs,\n",
    "                               timing = reg_part_row.timing,\n",
    "                               timing_unit = reg_part_row.timing_unit\n",
    "                               )\n",
    "\n",
    "def assign_part_phase(reg_part_row):\n",
    "    if not pd.isna(reg_part_row.phase):\n",
    "        phases = [Part_Phase(regimen_part_id = reg_part_row.regimen_part_id,\n",
    "                             variant_cui = reg_part_row.variant_cui, \n",
    "                             phase = get_enum(Phase, reg_part_row.phase),\n",
    "                             ) for phase in reg_part_row.phase.split('|')]\n",
    "        return phases\n",
    "\n",
    "def make_cycle_sig(cs_row):\n",
    "    return Hemonc_Cycle_Sig(cycle_sig_id = cs_row.cyclesigs,\n",
    "                            duration_min = cs_row.DUR_MIN, \n",
    "                            duration_max = cs_row.DUR_MAX,\n",
    "                            duration_units = cs_row.DUR_UNITS,\n",
    "                            frequency_min = cs_row.FREQ_MIN,\n",
    "                            frequency_max = cs_row.FREQ_MAX,\n",
    "                            frequency_units = cs_row.FREQ_UNITS,\n",
    "                            repeats_min = cs_row.REP_MIN,\n",
    "                            repeats_max = cs_row.REP_MAX,\n",
    "                            repeats_units = cs_row.REP_UNITS, \n",
    "                            cycle_len_min = cs_row.cycle_length_lb if not pd.isna(cs_row.cycle_length_lb) else None,\n",
    "                            cycle_len_max = cs_row.cycle_length_ub if not pd.isna(cs_row.cycle_length_ub) else None,\n",
    "                            cycle_len_units = cs_row.cycle_length_unit if not pd.isna(cs_row.cycle_length_unit) else None,\n",
    "                            residual = ' '.join([t.text for t in cs_row.cs_residual]))\n",
    "\n",
    "\n",
    "def make_modality(mod_row):\n",
    "    return Hemonc_Modality(modality_code = mod_row.concept_code_2,\n",
    "                           modality_name = mod_row.modality_name,\n",
    "                           modality_concept_id = int(mod_row.concept_id_2) if not pd.isna(mod_row.concept_id_2) else None)\n",
    "\n",
    "def make_ref(ref_row):\n",
    "    return Hemonc_Ref(reference = ref_row.reference,\n",
    "                      condition_code = ref_row.concept_code,\n",
    "                      pmid = ref_row.pmid,\n",
    "                      study = ref_row.study,\n",
    "                      title = ref_row.title,\n",
    "                      pmcid = ref_row.pmcid,\n",
    "                      doi = ref_row.doi if not ref_row.doi==\"\" else None,\n",
    "                      url = ref_row.url if not ref_row.url==\"\" else None,\n",
    "                      journal = ref_row.journal,\n",
    "                      biblio = ref_row.biblio,\n",
    "                      pub_date = ref_row.pub_date,\n",
    "                      order = ref_row.order,\n",
    "                      update = ref_row['update'],\n",
    "                      ref_type = ref_row.ref_type)\n",
    "\n",
    "def make_sig(sig_row):\n",
    "    return Hemonc_Sig(regimen_part_id = sig_row.regimen_part_id,\n",
    "                      variant_cui = sig_row.variant_cui,\n",
    "                      sig_id = sig_row.sig_id,\n",
    "                      component_code = sig_row.concept_code,\n",
    "                      component_name = sig_row.component,\n",
    "                      component_role = get_enum(ComponentRole, sig_row.component_role),\n",
    "                      step_number = sig_row.step_number,\n",
    "                      component_class = sig_row['class'],\n",
    "                      tail = sig_row['tail'],\n",
    "                      route = sig_row.route,\n",
    "                      doseMinNum = sig_row.doseMinNum if not pd.isna(sig_row.doseMinNum) else None,\n",
    "                      doseMaxNum = sig_row.doseMaxNum if not pd.isna(sig_row.doseMaxNum) else None,\n",
    "                      doseUnit = sig_row.doseUnit if not pd.isna(sig_row.doseUnit) else None,\n",
    "                      doseCapNum = sig_row.doseCapNum if not pd.isna(sig_row.doseCapNum) else None,\n",
    "                      doseCapUnit = sig_row.doseCapUnit if not pd.isna(sig_row.doseCapUnit) else None,\n",
    "                      durationMinNum = sig_row.durationMinNum if not pd.isna(sig_row.durationMinNum) else None,\n",
    "                      durationMaxNum = sig_row.durationMaxNum if not pd.isna(sig_row.durationMaxNum) else None,\n",
    "                      durationUnit = sig_row.durationUnit if not pd.isna(sig_row.durationUnit) else None,\n",
    "                      frequency = sig_row.frequency if not pd.isna(sig_row.frequency) else None,\n",
    "                      inParens = sig_row.inParens if not pd.isna(sig_row.inParens) else None,\n",
    "                      sequence = sig_row.sequence if not pd.isna(sig_row.sequence) else None,\n",
    "                      seq_rel = sig_row['seq.rel'] if not pd.isna(sig_row['seq.rel']) else None,\n",
    "                      seq_rel_what = sig_row['seq.rel.what'] if not pd.isna(sig_row['seq.rel.what']) else None)            \n",
    "\n",
    "\n",
    "def make_sig_days(sd_row):\n",
    "    days = '0' if pd.isna(sd_row.allDays) else sd_row.allDays\n",
    "    return [Sig_Days(regimen_part_id = sd_row.regimen_part_id,\n",
    "                     variant_cui = sd_row.variant_cui,\n",
    "                     sig_id = sd_row.sig_id,\n",
    "                     day = d) for d in days.split(',')]\n",
    "\n",
    "\n",
    "# spacer matcher helper functions\n",
    "\n",
    "small_num_lookup = {'one': 1, 'two': 2, 'three': 3, 'four': 4, 'five': 5, 'six': 6, 'seven': 7, 'eight': 8, 'nine': 9, 'ten': 10}\n",
    "\n",
    "def safe_num(tok):\n",
    "    try:\n",
    "        return int(tok.text)\n",
    "    except:\n",
    "        try:\n",
    "            return float(tok.text)\n",
    "        except:\n",
    "            try: \n",
    "                return small_num_lookup[tok.text.lower()]\n",
    "            except:\n",
    "                return None\n",
    "\n",
    "def safe_age(numeric):\n",
    "    ages = [safe_num(t) for t in numeric if t._.AGE]\n",
    "    if len(ages) > 0:\n",
    "        return ages[0]\n",
    "\n",
    "def get_full_stopping_condition(doc, conditions):\n",
    "    return doc[conditions[0].i:] if len(conditions) > 0 else None\n",
    "\n",
    "def get_units(tokens):\n",
    "    try:\n",
    "        return [t.lemma_ for t in tokens if t._.TIMING_UNIT][0]\n",
    "    except:\n",
    "        return None\n",
    "\n",
    "def get_min(group):\n",
    "    try:\n",
    "        return min([i for i in [safe_num(t) for t in group] if i])\n",
    "    except:\n",
    "        return None\n",
    "\n",
    "def get_max(group): \n",
    "    try:\n",
    "        if any([t._.GTE for t in group]):\n",
    "            return -1\n",
    "        return max([i for i in [safe_num(t) for t in group] if i])\n",
    "    except:\n",
    "        return None\n"
   ]
  },
  {
   "cell_type": "code",
   "execution_count": null,
   "metadata": {},
   "outputs": [],
   "source": [
    "role = ['Has cytotoxic chemo', 'Has targeted therapy', 'Has supportive med',\n",
    "       'Has steroid tx', 'Has local therapy', 'Has immunosuppressor',\n",
    "       'Has immunotherapy', 'Has endocrine tx', 'Has radiotherapy',\n",
    "       'Has growth factor', 'Has AB-drug cjgt', 'Has radioconjugate',\n",
    "       'Has antineoplastic', 'Has anticoag tx', 'Has pept-drug cjgt']\n",
    "\n",
    "concept_reg_roles = (\n",
    "    concept_relationship_stage_id[concept_relationship_stage_id.relationship_id.isin(role)][['concept_code_1', 'concept_id_1', 'relationship_id', 'concept_code_2', 'concept_id_2']]\n",
    "        .merge(\n",
    "                concept_stage_id[['concept_code', 'concept_name', 'concept_class_id']]\n",
    "                .rename(\n",
    "                    columns={'concept_code': 'concept_code_1', \n",
    "                             'concept_name': 'regimen_name',\n",
    "                             'concept_class_id': 'regimen_class'}\n",
    "                )\n",
    "        )\n",
    "        .merge(\n",
    "                concept_stage_id[['concept_code', 'concept_name', 'concept_class_id']]\n",
    "                .rename(\n",
    "                    columns={'concept_code': 'concept_code_2', \n",
    "                             'concept_name': 'component_name',\n",
    "                             'concept_class_id': 'component_class'}\n",
    "                )\n",
    "        )  \n",
    ")"
   ]
  },
  {
   "cell_type": "code",
   "execution_count": null,
   "metadata": {},
   "outputs": [],
   "source": [
    "concept_reg_roles.head()"
   ]
  },
  {
   "cell_type": "code",
   "execution_count": null,
   "metadata": {},
   "outputs": [],
   "source": [
    "concept_reg_roles['role_object'] = concept_reg_roles.apply(make_component_role, axis=1)"
   ]
  },
  {
   "cell_type": "code",
   "execution_count": null,
   "metadata": {},
   "outputs": [],
   "source": [
    "conditions = concept_stage_id[concept_stage_id.concept_class_id=='Condition'].apply(make_condition, axis=1)\n",
    "component_class_df['component_class_object'] = component_class_df.apply(make_component_class, axis=1)"
   ]
  },
  {
   "cell_type": "code",
   "execution_count": null,
   "metadata": {},
   "outputs": [],
   "source": [
    "component_df['component_object'] = component_df.apply(make_component, axis=1)\n",
    "components_with_class = component_df.merge(is_a, \n",
    "                                           left_on='concept_code', \n",
    "                                           right_on='concept_code_1').merge(component_class_df\n",
    "                                                                            ).rename(columns={'concept_code_2': 'concept_class_code'})\n"
   ]
  },
  {
   "cell_type": "code",
   "execution_count": null,
   "metadata": {},
   "outputs": [],
   "source": [
    "component_df"
   ]
  },
  {
   "cell_type": "code",
   "execution_count": null,
   "metadata": {},
   "outputs": [],
   "source": [
    "modality_df['modality_object'] = modality_df.apply(make_modality, axis=1)\n",
    "\n",
    "regimens_with_modality = concept_stage_id[\n",
    "    concept_stage_id.invalid_reason == ''\n",
    "    ].merge(\n",
    "        has_modality, \n",
    "        left_on='concept_code', \n",
    "        right_on='concept_code_1'\n",
    "    ).merge(\n",
    "        modality_df\n",
    "    ).rename(\n",
    "            columns={'concept_code_2': 'concept_class_code'}\n",
    "    ).drop_duplicates()\n"
   ]
  },
  {
   "cell_type": "code",
   "execution_count": null,
   "metadata": {},
   "outputs": [],
   "source": [
    "regimens_with_modality[regimens_with_modality[['concept_name', 'modality_name']].duplicated()]"
   ]
  },
  {
   "cell_type": "code",
   "execution_count": null,
   "metadata": {},
   "outputs": [],
   "source": [
    "components_with_class.apply(lambda x: x.component_object.component_classes.append(x.component_class_object), axis=1)"
   ]
  },
  {
   "cell_type": "code",
   "execution_count": null,
   "metadata": {},
   "outputs": [],
   "source": [
    "ref = ref.merge(concept_stage[concept_stage.concept_class_id=='Condition'][['concept_name', 'concept_code']], left_on='condition', right_on='concept_name', how='left')\n",
    "ref['pub_date'] = pd.to_datetime(ref['pub.date'])\n",
    "ref_obj = ref[~ref.concept_code.isna()].apply(make_ref, axis=1)"
   ]
  },
  {
   "cell_type": "code",
   "execution_count": null,
   "metadata": {},
   "outputs": [],
   "source": [
    "# todo: confirm what is meant by a single cui with >1 title - is this a synonym?\n",
    "\n",
    "regimen_dedup = regimen.drop_duplicates(subset='regimen_cui').copy()"
   ]
  },
  {
   "cell_type": "code",
   "execution_count": null,
   "metadata": {},
   "outputs": [],
   "source": [
    "context.date_added = pd.to_datetime(context.date_added)\n",
    "contexts = context.apply(make_context, axis=1)"
   ]
  },
  {
   "cell_type": "code",
   "execution_count": null,
   "metadata": {},
   "outputs": [],
   "source": [
    "# prepare study objects\n",
    "study.date_added = pd.to_datetime(study.date_added, format='mixed', errors='coerce')\n",
    "study.date_last_modified = pd.to_datetime(study.date_last_modified, format='mixed', errors='coerce')\n",
    "enrol_dates = study.enrollment.str.split('to', expand=True)\n",
    "enrol_from = enrol_dates[0].str.strip().str.split('-', expand=True).rename(columns={0: 'from_year', 1:'from_month', 2: 'from_day'}).fillna('01')\n",
    "enrol_to = enrol_dates[1].str.strip().str.split('-', expand=True).rename(columns={0: 'to_year', 1:'to_month', 2: 'to_day'}).fillna('01')\n",
    "study = pd.concat([study, enrol_from, enrol_to], axis=1)\n",
    "study = study.merge(concept_stage[concept_stage.concept_class_id=='Condition'][['concept_name', 'concept_code']], left_on='condition', right_on='concept_name', how='left')\n",
    "study.start = pd.to_datetime(study.start, format='mixed', errors='coerce')\n",
    "study.end = pd.to_datetime(study.end, format='mixed', errors='coerce')"
   ]
  },
  {
   "cell_type": "code",
   "execution_count": null,
   "metadata": {},
   "outputs": [],
   "source": [
    "study['study_object'] = study.apply(make_study, axis=1)\n",
    "regimen_dedup['regimen_object'] = regimen_dedup.apply(make_regimen, axis=1)"
   ]
  },
  {
   "cell_type": "code",
   "execution_count": null,
   "metadata": {},
   "outputs": [],
   "source": [
    "regimen_dedup = regimen_dedup.merge(regimens_with_modality[['concept_name', 'modality_object']].rename(columns={'concept_name':'regimen'}))"
   ]
  },
  {
   "cell_type": "code",
   "execution_count": null,
   "metadata": {},
   "outputs": [],
   "source": [
    "regimen_dedup.apply(lambda x: x.regimen_object.modalities.append(x.modality_object), axis=1)"
   ]
  },
  {
   "cell_type": "code",
   "execution_count": null,
   "metadata": {},
   "outputs": [],
   "source": [
    "with so.Session(engine) as sess:\n",
    "    sess.add_all(conditions)\n",
    "    sess.add_all(list(component_class_df.component_class_object))\n",
    "    sess.add_all(list(component_df.component_object))\n",
    "    sess.add_all(contexts)\n",
    "    sess.add_all(list(study.study_object))\n",
    "    sess.add_all(list(modality_df.modality_object))\n",
    "    sess.add_all(list(regimen_dedup.regimen_object))\n",
    "    sess.add_all(list(ref_obj))\n",
    "    sess.add_all(list(concept_reg_roles.role_object))\n",
    "    sess.commit()"
   ]
  },
  {
   "cell_type": "code",
   "execution_count": null,
   "metadata": {},
   "outputs": [],
   "source": [
    "# we are not going to pull in out of date variant versions\n",
    "sig_vars = sigs.merge(variant[variant.version==1][['variant_cui']])"
   ]
  },
  {
   "cell_type": "code",
   "execution_count": null,
   "metadata": {},
   "outputs": [],
   "source": [
    "for (r, c), dets in sig_vars[~sig_vars.step_number.str.contains('1 of') & sig_vars.allDays.isna()].groupby(['regimen', 'component']):\n",
    "    if len(dets)>1:\n",
    "        break"
   ]
  },
  {
   "cell_type": "code",
   "execution_count": null,
   "metadata": {},
   "outputs": [],
   "source": []
  },
  {
   "cell_type": "code",
   "execution_count": null,
   "metadata": {},
   "outputs": [],
   "source": []
  },
  {
   "cell_type": "code",
   "execution_count": null,
   "metadata": {},
   "outputs": [],
   "source": [
    "# parsing out branch conditions with spacy matchers\n",
    "\n",
    "branch_crit = sig_vars.branch.value_counts().reset_index()\n",
    "\n",
    "all_branches = []\n",
    "\n",
    "for crit in branch_crit.branch.unique():\n",
    "    combined_branches = crit.split('AND ')\n",
    "    for br in combined_branches:\n",
    "        all_branches += [b.lower().strip() for b in br.split('OR ')]\n",
    "\n",
    "all_branches = list(set(all_branches))\n",
    "\n",
    "branch_details = pd.DataFrame({'original': all_branches, 'doc': [nlp(b) for b in all_branches]})\n",
    "\n",
    "for label, config in rules.items():\n",
    "    branch_details.doc.apply(lambda d: match_entities(matchers[label], d, label, config[\"MERGE\"]))\n",
    "    branch_details[label] = branch_details.doc.apply(lambda d: [t for t in d if getattr(t._, label)])\n",
    "    branch_details[f'has_{label}'] = (branch_details[label].apply(len)>0)\n",
    "\n",
    "branch_details['MODIFIER_HEAD'] = branch_details.doc.apply(get_modifier_child)\n",
    "branch_details['NOUNS'] = branch_details.doc.apply(get_nouns)\n",
    "branch_details['NUMERIC'] = branch_details.doc.map(lambda doc: [tok for tok in doc if tok.like_num])"
   ]
  },
  {
   "cell_type": "code",
   "execution_count": null,
   "metadata": {},
   "outputs": [],
   "source": [
    "# parse numeric branch factors into constituant elements\n",
    "\n",
    "branch_details.loc[branch_details.has_AGE, 'RULE_TYPE'] = BranchConditionalType.age\n",
    "branch_details.loc[branch_details.has_SIZE, 'RULE_TYPE'] = BranchConditionalType.size\n",
    "branch_details.loc[branch_details.has_LAB, 'RULE_TYPE'] = BranchConditionalType.lab\n",
    "branch_details.loc[branch_details.has_STAGE, 'RULE_TYPE'] = BranchConditionalType.stage\n",
    "\n",
    "branch_details.loc[branch_details.has_STAGE, 'RULE_VALUE'] = branch_details.STAGE.apply(lambda x: ' '.join([tok.text for tok in x]) if len(x) > 0 else None)\n",
    "\n",
    "num = branch_details.NUMERIC.apply(lambda x: safe_num(x[0]) if len(x) > 0 else None)\n",
    "age = branch_details.NUMERIC.apply(lambda x: safe_age(x))\n",
    "first_num = branch_details.NUMERIC.apply(lambda x: safe_num(x[0]) if len(x) > 0 else None)\n",
    "second_num = branch_details.NUMERIC.apply(lambda x: safe_num(x[1]) if len(x) > 1 else None)\n",
    "\n",
    "gt = (branch_details.GT.apply(len)>0)\n",
    "gte = (branch_details.GTE.apply(len)>0)\n",
    "lt = (branch_details.LT.apply(len)>0)\n",
    "lte = (branch_details.LTE.apply(len)>0)\n",
    "\n",
    "r = (branch_details.RANGE.apply(len)>0)\n",
    "\n",
    "branch_details.loc[branch_details.has_AGE & gt, 'MIN_NUM'] = age.apply(lambda x: x + 1 if x else None)\n",
    "branch_details.loc[branch_details.has_AGE & gte, 'MIN_NUM'] = age\n",
    "branch_details.loc[branch_details.has_AGE & lt, 'MAX_NUM'] = age.apply(lambda x: x - 1 if x else None)\n",
    "branch_details.loc[branch_details.has_AGE & lte, 'MAX_NUM'] = age\n",
    "\n",
    "branch_details.loc[(branch_details.has_SIZE | branch_details.has_LAB) & gt, 'MIN_NUM'] = num.apply(lambda x: x + 1 if x else None)\n",
    "branch_details.loc[(branch_details.has_SIZE | branch_details.has_LAB) & gte, 'MIN_NUM'] = num\n",
    "branch_details.loc[(branch_details.has_SIZE | branch_details.has_LAB) & lt, 'MAX_NUM'] = num.apply(lambda x: x - 1 if x else None)\n",
    "branch_details.loc[(branch_details.has_SIZE | branch_details.has_LAB) & lte, 'MAX_NUM'] = num\n",
    "\n",
    "branch_details.loc[(branch_details.has_AGE | branch_details.has_SIZE | branch_details.has_LAB) & r, 'MIN_NUM'] = first_num\n",
    "branch_details.loc[(branch_details.has_AGE | branch_details.has_SIZE | branch_details.has_LAB) & r, 'MAX_NUM'] = second_num"
   ]
  },
  {
   "cell_type": "code",
   "execution_count": null,
   "metadata": {},
   "outputs": [],
   "source": [
    "# very likely to be able to improve these value extraction steps through either medspacy NER or better rules / more fullsome parsing, but a decent first pass\n",
    "\n",
    "branch_details.loc[branch_details.RULE_VALUE.isna(), 'RULE_VALUE'] = branch_details.apply(lambda row: ' '.join([t.text for t in (row.FACT_MODIFIER + row.FACT)]), axis=1)"
   ]
  },
  {
   "cell_type": "code",
   "execution_count": null,
   "metadata": {},
   "outputs": [],
   "source": [
    "branches = branch_details.apply(make_branch, axis=1)"
   ]
  },
  {
   "cell_type": "code",
   "execution_count": null,
   "metadata": {},
   "outputs": [],
   "source": [
    "with so.Session(engine) as sess:\n",
    "    sess.add_all(branches)\n",
    "    sess.commit()"
   ]
  },
  {
   "cell_type": "code",
   "execution_count": null,
   "metadata": {},
   "outputs": [],
   "source": [
    "variant_study = variant.merge(pointer[['regimen', 'regimen_cui']].drop_duplicates(), how='left')[['regimen', 'study', 'variant_cui', 'variant', 'regimen_cui']].drop_duplicates()\n",
    "variant_study['variant_object'] = variant_study.apply(make_variant, axis=1)"
   ]
  },
  {
   "cell_type": "code",
   "execution_count": null,
   "metadata": {},
   "outputs": [],
   "source": [
    "study_object_lookup = {s.study: s.study_object for s in study.itertuples()}"
   ]
  },
  {
   "cell_type": "code",
   "execution_count": null,
   "metadata": {},
   "outputs": [],
   "source": []
  },
  {
   "cell_type": "code",
   "execution_count": null,
   "metadata": {},
   "outputs": [],
   "source": [
    "for row in variant_study.itertuples():\n",
    "    for study_name in row.study.split('|'):\n",
    "        try:\n",
    "            row.variant_object.studied_in.append(study_object_lookup[study_name])\n",
    "        except:\n",
    "            print(f'missing study: {study_name} ({row.regimen})')"
   ]
  },
  {
   "cell_type": "code",
   "execution_count": null,
   "metadata": {},
   "outputs": [],
   "source": []
  },
  {
   "cell_type": "code",
   "execution_count": null,
   "metadata": {},
   "outputs": [],
   "source": []
  },
  {
   "cell_type": "code",
   "execution_count": null,
   "metadata": {},
   "outputs": [],
   "source": [
    "regimen_part_sig = sig_vars[['regimen', 'variant', 'phase', 'portion', 'cyclesigs', 'timing', 'branch', 'cycle_length_lb', 'cycle_length_ub', 'cycle_length_unit']].drop_duplicates()"
   ]
  },
  {
   "cell_type": "code",
   "execution_count": null,
   "metadata": {},
   "outputs": [],
   "source": [
    "# spacy matcher parsing of cycle sigs\n",
    "\n",
    "cycle_sigs_parsed = regimen_part_sig[['cyclesigs', 'cycle_length_lb', 'cycle_length_ub', 'cycle_length_unit']].fillna('').drop_duplicates().copy()\n",
    "cycle_sigs_parsed['doc'] = cycle_sigs_parsed.cyclesigs.map(nlp)\n",
    "\n",
    "for label, config in rules.items():\n",
    "    cycle_sigs_parsed.doc.apply(lambda d: match_entities(matchers[label], d, label, config[\"MERGE\"]))\n",
    "    cycle_sigs_parsed[label] = cycle_sigs_parsed.doc.apply(lambda d: [t for t in d if getattr(t._, label)])\n",
    "    cycle_sigs_parsed[f'has_{label}'] = (cycle_sigs_parsed[label].apply(len)>0)\n",
    "\n",
    "cycle_sigs_parsed['full_stopping'] = cycle_sigs_parsed.apply(lambda row: get_full_stopping_condition(row.doc, row.STOPPING_CONDITION), axis=1)\n",
    "\n",
    "\n",
    "cycle_sigs_parsed['DUR_MIN'] = cycle_sigs_parsed.DURATION.apply(get_min)\n",
    "cycle_sigs_parsed['DUR_MAX'] = cycle_sigs_parsed.DURATION.apply(get_max)\n",
    "cycle_sigs_parsed['DUR_UNITS'] = cycle_sigs_parsed.DURATION.apply(get_units)\n",
    "cycle_sigs_parsed['FREQ_MIN'] = cycle_sigs_parsed.FREQUENCY.apply(get_min)\n",
    "cycle_sigs_parsed['FREQ_MAX'] = cycle_sigs_parsed.FREQUENCY.apply(get_max)\n",
    "cycle_sigs_parsed['FREQ_UNITS'] = cycle_sigs_parsed.FREQUENCY.apply(get_units)\n",
    "cycle_sigs_parsed['REP_MIN'] = cycle_sigs_parsed.REPEATS.apply(get_min)\n",
    "cycle_sigs_parsed['REP_MAX'] = cycle_sigs_parsed.REPEATS.apply(get_max)\n",
    "cycle_sigs_parsed['REP_UNITS'] = cycle_sigs_parsed.REPEATS.apply(get_units)"
   ]
  },
  {
   "cell_type": "code",
   "execution_count": null,
   "metadata": {},
   "outputs": [],
   "source": [
    "reg_parts = sig_vars[['regimen', 'variant_cui','variant','phase', 'portion', 'cyclesigs', 'timing', 'timing_unit']].drop_duplicates().copy()\n",
    "reg_parts['regimen_part_id'] = reg_parts.sort_values(['variant_cui', 'phase', 'portion', 'cyclesigs', 'timing', 'timing_unit']).groupby('variant_cui').cumcount()"
   ]
  },
  {
   "cell_type": "code",
   "execution_count": null,
   "metadata": {},
   "outputs": [],
   "source": [
    "reg_parts[reg_parts.cyclesigs.str.contains('2 and', na=False, case=False)]"
   ]
  },
  {
   "cell_type": "code",
   "execution_count": null,
   "metadata": {},
   "outputs": [],
   "source": [
    "regimen_parts = reg_parts.apply(make_reg_part, axis=1)\n",
    "part_phase = reg_parts.apply(assign_part_phase, axis=1)\n",
    "cycle_sigs_parsed['cs_residual'] = cycle_sigs_parsed.doc.apply(lambda d: [t for t in d if not t._.FREQUENCY and not t._.REPEATS and not t._.DURATION and not t._.GTE and t.text != 'for'])"
   ]
  },
  {
   "cell_type": "code",
   "execution_count": null,
   "metadata": {},
   "outputs": [],
   "source": [
    "cycle_sigs_parsed[cycle_sigs_parsed.cs_residual.apply(len) > 0]"
   ]
  },
  {
   "cell_type": "code",
   "execution_count": null,
   "metadata": {},
   "outputs": [],
   "source": [
    "cs = cycle_sigs_parsed.apply(make_cycle_sig, axis=1)"
   ]
  },
  {
   "cell_type": "code",
   "execution_count": null,
   "metadata": {},
   "outputs": [],
   "source": [
    "with so.Session(engine) as sess:\n",
    "    sess.add_all(list(variant_study.variant_object))\n",
    "    sess.add_all(regimen_parts)\n",
    "    sess.add_all(cs)\n",
    "    sess.commit()"
   ]
  },
  {
   "cell_type": "code",
   "execution_count": null,
   "metadata": {},
   "outputs": [],
   "source": [
    "sig_vars[sig_vars.variant_cui==131430]#sig_vars[['regimen', 'variant', 'phase', 'portion', 'cyclesigs', 'timing', 'branch', 'cycle_length_lb', 'cycle_length_ub', 'cycle_length_unit']].duplicated()]\n",
    "\n",
    "regimen_part_sig[regimen_part_sig.regimen=='D-FEC plus Bev']\n",
    "\n",
    "reg_parts[reg_parts.variant_cui==131430]#sig_vars[['regimen', 'variant', 'phase', 'portion', 'cyclesigs', 'timing', 'branch', 'cycle_length_lb', 'cycle_length_ub', 'cycle_length_unit']].duplicated()]\n"
   ]
  },
  {
   "cell_type": "code",
   "execution_count": null,
   "metadata": {},
   "outputs": [],
   "source": []
  },
  {
   "cell_type": "code",
   "execution_count": null,
   "metadata": {},
   "outputs": [],
   "source": [
    "sig_vars_components = sig_vars.merge(components_with_class[['concept_name', 'concept_code']], left_on='component', right_on='concept_name', how='left').drop_duplicates().merge(reg_parts[['variant_cui', 'phase', 'portion', 'cyclesigs', 'regimen_part_id']])\n",
    "sig_vars_components[['variant_cui', 'regimen_part_id', 'component', 'component_role', 'timing', 'step_number', 'inParens', 'class', 'tail']][sig_vars_components[['variant_cui', 'regimen_part_id', 'component', 'component_role', 'timing', 'step_number', 'class', 'tail']].duplicated()]"
   ]
  },
  {
   "cell_type": "code",
   "execution_count": null,
   "metadata": {},
   "outputs": [],
   "source": [
    "sig_vars_components['sig_id'] = sig_vars_components.groupby(['regimen', 'variant_cui', 'regimen_part_id']).cumcount()"
   ]
  },
  {
   "cell_type": "code",
   "execution_count": null,
   "metadata": {},
   "outputs": [],
   "source": [
    "sig_vars_components = sig_vars_components.sort_values(['variant_cui', 'regimen_part_id', 'concept_name', 'step_number'])"
   ]
  },
  {
   "cell_type": "code",
   "execution_count": null,
   "metadata": {},
   "outputs": [],
   "source": [
    "# if days are empty, but this component and regimen part are identical to the previous row when sorted in this fashion, filling these day details forward\n",
    "\n",
    "sig_vars_components.loc[sig_vars_components.allDays.isna() & (sig_vars_components.concept_name.shift(1) ==  sig_vars_components.concept_name), 'allDays'] = sig_vars_components.allDays.shift(1)"
   ]
  },
  {
   "cell_type": "code",
   "execution_count": null,
   "metadata": {},
   "outputs": [],
   "source": []
  },
  {
   "cell_type": "code",
   "execution_count": null,
   "metadata": {},
   "outputs": [],
   "source": [
    "sig_objects = sig_vars_components.apply(make_sig, axis=1)\n",
    "sd = sig_vars_components.apply(make_sig_days, axis=1)"
   ]
  },
  {
   "cell_type": "code",
   "execution_count": null,
   "metadata": {},
   "outputs": [],
   "source": [
    "sig_vars_components.component.apply(len).max()"
   ]
  },
  {
   "cell_type": "code",
   "execution_count": null,
   "metadata": {},
   "outputs": [],
   "source": [
    "with so.Session(engine) as sess:\n",
    "    sess.add_all(sig_objects)\n",
    "    for s in sd:\n",
    "        sess.add_all(s)\n",
    "    sess.commit()"
   ]
  },
  {
   "cell_type": "code",
   "execution_count": null,
   "metadata": {},
   "outputs": [],
   "source": []
  },
  {
   "cell_type": "code",
   "execution_count": null,
   "metadata": {},
   "outputs": [],
   "source": [
    "sig_vars_components[['component', 'doseMinNum', 'doseMaxNum', 'doseUnit', 'doseCapNum', 'doseCapUnit', 'divided', 'durationMinNum', 'durationMaxNum', 'durationUnit', 'frequency', 'inParens', 'sequence', 'seq.rel', 'seq.rel.what']]['seq.rel.what'].value_counts()"
   ]
  },
  {
   "cell_type": "code",
   "execution_count": null,
   "metadata": {},
   "outputs": [],
   "source": [
    "regimen[regimen.regimen_cui.duplicated()].head()"
   ]
  },
  {
   "cell_type": "code",
   "execution_count": null,
   "metadata": {},
   "outputs": [],
   "source": [
    "### Issues\n",
    "\n",
    "# Need a n:m context <-> status mapper\n",
    "\n",
    "# single record with >1 setting - is this a variant?\n",
    "context[context.setting.map(lambda x: get_enum(Setting, x)).isna()].setting.value_counts()\n",
    "\n",
    "# list of regimens that have no associated variants\n",
    "\n",
    "vv = variant.merge(pointer[['regimen', 'regimen_cui']].drop_duplicates(), how='outer')\n",
    "vv[vv.variant.isna()].regimen.unique()\n",
    "\n",
    "# and vice-versa\n",
    "vv[vv.regimen_cui.isna()]\n",
    "\n",
    "\n",
    "# some potential duplication across variant/sig rows\n",
    "dup = sig_vars[sig_vars[['study',  'regimen', 'component', 'variant_cui', 'branch', 'timing', 'step_number', 'portion', 'class']].duplicated(keep=False)]\n",
    "\n",
    "for regimen, reg_dets in dup.groupby('regimen'):\n",
    "    print(regimen)\n",
    "    for lab, d in reg_dets.to_dict().items():\n",
    "        if len(set(d.values())) != 1:\n",
    "            print('\\t', lab, d)\n",
    "\n",
    "# should these variant definitions have the same cyclesig?\n",
    "\n",
    "distinct_sigs = sig_vars[~sig_vars.component.str.contains('surg|brachy|radiotherapy', case=False)][['regimen', 'variant', 'phase', 'portion', 'cyclesigs', 'timing', 'branch']].drop_duplicates()\n",
    "distinct_sigs[distinct_sigs[['regimen', 'variant', 'phase', 'portion', 'timing', 'branch']].duplicated(keep=False)][['regimen', 'variant']].drop_duplicates()\n",
    "\n",
    "sig_vars[(sig_vars.regimen=='TACE, then 5-FU') & (sig_vars.variant=='Variant #01')][['regimen', 'variant', 'phase', 'portion', 'cyclesigs', 'timing', 'branch', 'component']]\n",
    "\n",
    "\n",
    "# components in the variant file that aren't in the drug class - need to revisit to pull in procedures\n",
    "sig_vars_components[sig_vars_components.concept_code.isna()]"
   ]
  },
  {
   "cell_type": "code",
   "execution_count": null,
   "metadata": {},
   "outputs": [],
   "source": [
    "\n",
    "distinct_sigs = sig_vars[~sig_vars.component.str.contains('surg|brachy|radiotherapy', case=False)][['regimen', 'variant', 'portion', 'cyclesigs', 'timing', 'branch']].drop_duplicates()\n",
    "distinct_sigs[distinct_sigs[['regimen', 'variant', 'portion', 'timing', 'branch']].duplicated(keep=False)][['regimen', 'variant']].drop_duplicates()\n"
   ]
  },
  {
   "cell_type": "code",
   "execution_count": null,
   "metadata": {},
   "outputs": [],
   "source": [
    "ref[ref.concept_code.isna()].condition.value_counts()"
   ]
  },
  {
   "cell_type": "code",
   "execution_count": null,
   "metadata": {},
   "outputs": [],
   "source": []
  },
  {
   "cell_type": "code",
   "execution_count": null,
   "metadata": {},
   "outputs": [],
   "source": []
  },
  {
   "cell_type": "code",
   "execution_count": null,
   "metadata": {},
   "outputs": [],
   "source": []
  },
  {
   "cell_type": "code",
   "execution_count": null,
   "metadata": {},
   "outputs": [],
   "source": []
  },
  {
   "cell_type": "code",
   "execution_count": null,
   "metadata": {},
   "outputs": [],
   "source": []
  }
 ],
 "metadata": {
  "kernelspec": {
   "display_name": ".venv",
   "language": "python",
   "name": "python3"
  },
  "language_info": {
   "codemirror_mode": {
    "name": "ipython",
    "version": 3
   },
   "file_extension": ".py",
   "mimetype": "text/x-python",
   "name": "python",
   "nbconvert_exporter": "python",
   "pygments_lexer": "ipython3",
   "version": "3.11.0"
  }
 },
 "nbformat": 4,
 "nbformat_minor": 2
}
